{
 "cells": [
  {
   "cell_type": "code",
   "execution_count": 65,
   "id": "ed5d8711",
   "metadata": {},
   "outputs": [],
   "source": [
    "from sklearn.metrics import classification_report, confusion_matrix\n",
    "from sklearn.neighbors import KNeighborsClassifier\n",
    "from sklearn.model_selection import train_test_split\n",
    "import numpy as np\n",
    "import pandas as pd\n",
    "import matplotlib.pyplot as plt\n",
    "churn_df = pd.read_csv('telecom_churn_clean.csv')\n",
    "X = churn_df[['total_day_charge', 'total_eve_charge']].values\n",
    "y = churn_df['churn'].values\n",
    "knn = KNeighborsClassifier(n_neighbors = 7)\n",
    "X_train, X_test, y_train, y_test = train_test_split(X, y, test_size=0.2, random_state=16, stratify = y)"
   ]
  },
  {
   "cell_type": "code",
   "execution_count": 66,
   "id": "863b897c",
   "metadata": {},
   "outputs": [
    {
     "name": "stdout",
     "output_type": "stream",
     "text": [
      "[[557  13]\n",
      " [ 74  23]]\n"
     ]
    }
   ],
   "source": [
    "knn.fit(X_train, y_train)\n",
    "y_pred = knn.predict(X_test)\n",
    "print(confusion_matrix(y_test, y_pred))"
   ]
  },
  {
   "cell_type": "code",
   "execution_count": 67,
   "id": "310fd465",
   "metadata": {},
   "outputs": [
    {
     "name": "stdout",
     "output_type": "stream",
     "text": [
      "              precision    recall  f1-score   support\n",
      "\n",
      "           0       0.88      0.98      0.93       570\n",
      "           1       0.64      0.24      0.35        97\n",
      "\n",
      "    accuracy                           0.87       667\n",
      "   macro avg       0.76      0.61      0.64       667\n",
      "weighted avg       0.85      0.87      0.84       667\n",
      "\n"
     ]
    }
   ],
   "source": [
    "print(classification_report(y_test, y_pred))"
   ]
  },
  {
   "cell_type": "markdown",
   "id": "bb5d528b",
   "metadata": {},
   "source": [
    "### Логистическая регрессия"
   ]
  },
  {
   "cell_type": "code",
   "execution_count": 68,
   "id": "2147035a",
   "metadata": {},
   "outputs": [],
   "source": [
    "from sklearn.linear_model import LogisticRegression\n",
    "logreg = LogisticRegression()\n",
    "X_train, X_test, y_train, y_test = train_test_split(X, y, test_size=0.2, random_state=17)\n",
    "logreg.fit(X_train, y_train)\n",
    "y_pred = logreg.predict(X_test)"
   ]
  },
  {
   "cell_type": "code",
   "execution_count": 69,
   "id": "0db53fe6",
   "metadata": {},
   "outputs": [
    {
     "data": {
      "text/plain": [
       "array([0, 0, 0, 0, 0, 0, 0, 0, 0, 0, 0, 0, 0, 0, 0, 0, 0, 0, 0, 0, 0, 0,\n",
       "       0, 0, 0, 0, 0, 0, 0, 0, 0, 0, 0, 0, 0, 0, 0, 0, 0, 0, 0, 0, 0, 0,\n",
       "       0, 0, 0, 0, 0, 0, 0, 0, 0, 0, 0, 0, 0, 0, 0, 0, 0, 0, 0, 0, 0, 0,\n",
       "       0, 0, 0, 0, 0, 0, 0, 0, 0, 0, 0, 0, 0, 0, 0, 0, 0, 0, 0, 0, 0, 0,\n",
       "       0, 0, 0, 0, 0, 0, 0, 0, 0, 0, 0, 0, 0, 0, 0, 0, 0, 0, 0, 0, 0, 0,\n",
       "       0, 0, 0, 0, 0, 0, 0, 0, 0, 0, 0, 0, 0, 0, 0, 0, 0, 0, 0, 0, 0, 0,\n",
       "       0, 0, 0, 0, 0, 0, 0, 0, 0, 0, 0, 0, 0, 0, 0, 0, 0, 0, 0, 0, 0, 0,\n",
       "       0, 0, 0, 0, 0, 0, 0, 0, 0, 0, 0, 0, 0, 0, 0, 0, 0, 0, 0, 0, 0, 0,\n",
       "       0, 0, 0, 0, 0, 0, 0, 0, 0, 0, 0, 0, 0, 0, 0, 0, 0, 0, 0, 0, 0, 0,\n",
       "       0, 0, 0, 0, 0, 0, 0, 0, 0, 0, 0, 0, 0, 0, 0, 0, 0, 0, 0, 0, 0, 0,\n",
       "       0, 0, 0, 0, 0, 0, 0, 0, 0, 0, 0, 0, 0, 0, 0, 0, 0, 0, 0, 0, 0, 0,\n",
       "       0, 0, 0, 0, 0, 0, 0, 0, 0, 0, 0, 0, 0, 0, 0, 0, 0, 0, 0, 0, 0, 0,\n",
       "       0, 0, 0, 0, 0, 0, 0, 0, 0, 0, 0, 0, 0, 0, 0, 0, 0, 0, 0, 0, 0, 0,\n",
       "       0, 0, 0, 0, 0, 0, 0, 0, 0, 0, 0, 0, 0, 0, 0, 0, 0, 0, 0, 0, 0, 0,\n",
       "       0, 0, 0, 0, 0, 0, 0, 0, 0, 0, 0, 0, 0, 0, 0, 0, 0, 0, 0, 0, 0, 0,\n",
       "       0, 0, 0, 0, 0, 0, 0, 0, 0, 0, 0, 0, 0, 0, 0, 0, 0, 0, 0, 0, 0, 0,\n",
       "       0, 0, 0, 0, 0, 0, 0, 0, 0, 0, 0, 0, 0, 0, 0, 0, 0, 0, 0, 0, 0, 0,\n",
       "       0, 0, 0, 0, 0, 0, 0, 0, 0, 0, 0, 0, 0, 0, 0, 0, 0, 0, 0, 0, 0, 0,\n",
       "       0, 0, 0, 0, 0, 0, 0, 0, 0, 0, 0, 0, 0, 0, 0, 0, 0, 0, 0, 0, 0, 0,\n",
       "       0, 0, 0, 0, 0, 0, 0, 0, 0, 0, 0, 0, 0, 0, 0, 0, 0, 0, 0, 0, 0, 0,\n",
       "       0, 0, 0, 0, 0, 0, 0, 0, 0, 0, 0, 0, 0, 0, 0, 0, 0, 0, 0, 0, 0, 0,\n",
       "       0, 0, 0, 0, 0, 0, 0, 0, 0, 0, 0, 0, 0, 0, 0, 0, 0, 0, 0, 0, 0, 0,\n",
       "       0, 0, 0, 0, 0, 0, 0, 0, 0, 0, 0, 0, 0, 0, 0, 0, 0, 0, 0, 0, 0, 0,\n",
       "       0, 0, 1, 0, 0, 0, 0, 0, 0, 0, 0, 0, 0, 0, 0, 0, 0, 0, 0, 0, 0, 0,\n",
       "       0, 0, 0, 0, 0, 0, 0, 0, 0, 0, 0, 0, 0, 0, 0, 0, 0, 0, 0, 0, 0, 0,\n",
       "       0, 0, 0, 0, 0, 0, 0, 0, 0, 0, 0, 0, 0, 0, 0, 0, 0, 0, 0, 0, 0, 0,\n",
       "       0, 0, 0, 0, 0, 0, 0, 0, 0, 0, 0, 0, 0, 0, 0, 0, 0, 0, 0, 0, 0, 0,\n",
       "       0, 0, 0, 0, 0, 0, 0, 0, 0, 0, 0, 0, 0, 0, 0, 0, 0, 0, 0, 0, 0, 0,\n",
       "       0, 0, 0, 0, 0, 0, 0, 0, 0, 0, 0, 0, 0, 0, 0, 0, 0, 0, 0, 0, 0, 0,\n",
       "       0, 0, 0, 0, 0, 0, 0, 0, 0, 0, 0, 0, 0, 0, 0, 0, 0, 0, 0, 0, 0, 0,\n",
       "       0, 0, 0, 0, 0, 0, 0])"
      ]
     },
     "execution_count": 69,
     "metadata": {},
     "output_type": "execute_result"
    }
   ],
   "source": [
    "y_pred"
   ]
  },
  {
   "cell_type": "code",
   "execution_count": 70,
   "id": "330f14db",
   "metadata": {},
   "outputs": [
    {
     "data": {
      "text/plain": [
       "array([0.02538475, 0.2869689 , 0.13811062, 0.06772186, 0.2943153 ,\n",
       "       0.1478439 , 0.02790737, 0.08117382, 0.08895971, 0.09062519,\n",
       "       0.05061074, 0.09038037, 0.16387797, 0.07719755, 0.16754939,\n",
       "       0.10381885, 0.07962163, 0.04706973, 0.16811459, 0.36008914,\n",
       "       0.20074993, 0.02054403, 0.09402724, 0.06962598, 0.16562577,\n",
       "       0.30652812, 0.05173505, 0.075993  , 0.08398342, 0.12427216,\n",
       "       0.1757905 , 0.38086929, 0.2572169 , 0.0502941 , 0.27913425,\n",
       "       0.1522171 , 0.18054815, 0.14231476, 0.09381644, 0.39761262,\n",
       "       0.20741158, 0.093456  , 0.06059873, 0.21765796, 0.043756  ,\n",
       "       0.29838317, 0.22727977, 0.06108874, 0.0882033 , 0.0788937 ,\n",
       "       0.05579631, 0.31781906, 0.22923293, 0.08767167, 0.06835504,\n",
       "       0.11726928, 0.1095047 , 0.02054567, 0.16290689, 0.19259557,\n",
       "       0.11686867, 0.0595488 , 0.2266877 , 0.19119765, 0.16609259,\n",
       "       0.1903782 , 0.08601281, 0.23260521, 0.22037155, 0.21887279,\n",
       "       0.09675182, 0.17711754, 0.09661489, 0.08078278, 0.078813  ,\n",
       "       0.24823886, 0.22329595, 0.12799573, 0.28640314, 0.08037185,\n",
       "       0.11344227, 0.20196061, 0.28178941, 0.16381685, 0.28101844,\n",
       "       0.21707909, 0.15244565, 0.09739851, 0.10250651, 0.1022494 ,\n",
       "       0.3372632 , 0.18596134, 0.08252635, 0.0667275 , 0.0983984 ,\n",
       "       0.07332904, 0.09636065, 0.08006772, 0.06081196, 0.21676655,\n",
       "       0.11925495, 0.23849625, 0.06859774, 0.15291822, 0.09128896,\n",
       "       0.20321707, 0.12858356, 0.19771394, 0.12856435, 0.23080633,\n",
       "       0.16178919, 0.13592857, 0.16372392, 0.05599078, 0.091018  ,\n",
       "       0.01995985, 0.18966894, 0.13725502, 0.09508724, 0.12994673,\n",
       "       0.05890279, 0.15889083, 0.08088765, 0.12720711, 0.07052553,\n",
       "       0.1178236 , 0.19959835, 0.04903033, 0.22601543, 0.16536366,\n",
       "       0.14404133, 0.08095878, 0.10849397, 0.12405485, 0.10707243,\n",
       "       0.10027048, 0.16657209, 0.03849193, 0.13929803, 0.11955236,\n",
       "       0.13205703, 0.35921249, 0.20894318, 0.04090865, 0.10570993,\n",
       "       0.1259007 , 0.13419242, 0.0473356 , 0.1188586 , 0.14221946,\n",
       "       0.11295919, 0.08764189, 0.07845672, 0.0404244 , 0.13805564,\n",
       "       0.13803373, 0.15821189, 0.23983123, 0.06876758, 0.1142739 ,\n",
       "       0.12838416, 0.06831053, 0.21815397, 0.12741479, 0.11422277,\n",
       "       0.09199117, 0.04680863, 0.09469212, 0.12541419, 0.23827576,\n",
       "       0.08070304, 0.19679834, 0.18766444, 0.43186094, 0.13900379,\n",
       "       0.08343867, 0.13959326, 0.15771057, 0.17637605, 0.20681882,\n",
       "       0.05029555, 0.08532591, 0.11984492, 0.19998145, 0.15972326,\n",
       "       0.15220045, 0.11860879, 0.26222843, 0.17491747, 0.10964836,\n",
       "       0.28327737, 0.09454001, 0.11276512, 0.13250697, 0.14719994,\n",
       "       0.18186578, 0.24831499, 0.08279566, 0.12482502, 0.09563203,\n",
       "       0.05984657, 0.12840719, 0.23610693, 0.06204952, 0.07079497,\n",
       "       0.12867605, 0.19355246, 0.03161988, 0.09780741, 0.07292604,\n",
       "       0.19692961, 0.0941141 , 0.29812939, 0.19874188, 0.16052382,\n",
       "       0.1125614 , 0.20718468, 0.07003829, 0.12523886, 0.08277778,\n",
       "       0.21438079, 0.09447089, 0.12419223, 0.12401621, 0.11267037,\n",
       "       0.08405186, 0.15675836, 0.10624492, 0.11257331, 0.11429812,\n",
       "       0.27318307, 0.11929157, 0.07359706, 0.11486968, 0.13821745,\n",
       "       0.05773823, 0.27614253, 0.27305523, 0.0965476 , 0.19300099,\n",
       "       0.19926454, 0.28077614, 0.17871723, 0.32987893, 0.0355205 ,\n",
       "       0.21896795, 0.08473345, 0.36761462, 0.15267013, 0.17450041,\n",
       "       0.29440268, 0.1975331 , 0.1271108 , 0.09827337, 0.15944126,\n",
       "       0.21167363, 0.13656615, 0.14986586, 0.07296905, 0.06077912,\n",
       "       0.19598322, 0.36284202, 0.09480609, 0.22577413, 0.31175727,\n",
       "       0.1710907 , 0.21742378, 0.2537204 , 0.16370331, 0.04980817,\n",
       "       0.19571271, 0.18754588, 0.04518144, 0.25280549, 0.14422149,\n",
       "       0.2018441 , 0.2137144 , 0.19674556, 0.17821241, 0.10599846,\n",
       "       0.26113088, 0.04307367, 0.1589519 , 0.14709996, 0.17289668,\n",
       "       0.42906024, 0.26208613, 0.09661772, 0.0762955 , 0.17344368,\n",
       "       0.15097723, 0.07414769, 0.14972449, 0.1607202 , 0.07569272,\n",
       "       0.18466536, 0.03167964, 0.29693052, 0.12951928, 0.05600078,\n",
       "       0.16697625, 0.12786848, 0.15119183, 0.08070888, 0.08480886,\n",
       "       0.21396505, 0.16219619, 0.18997946, 0.21799896, 0.15213387,\n",
       "       0.08678345, 0.08563911, 0.22246485, 0.24752934, 0.15107194,\n",
       "       0.1063792 , 0.13328723, 0.22443033, 0.15894545, 0.10951824,\n",
       "       0.18041251, 0.1186813 , 0.11991141, 0.19183752, 0.12380131,\n",
       "       0.29790706, 0.17036172, 0.16647012, 0.15784312, 0.10041744,\n",
       "       0.13009388, 0.31039754, 0.10985285, 0.06563617, 0.14154221,\n",
       "       0.1369729 , 0.09227034, 0.20692208, 0.10979748, 0.20601632,\n",
       "       0.07493849, 0.15056815, 0.13767904, 0.05992675, 0.12803618,\n",
       "       0.10578855, 0.13006278, 0.19684037, 0.10728533, 0.03379801,\n",
       "       0.02686314, 0.1304997 , 0.11241067, 0.08452484, 0.2063884 ,\n",
       "       0.1267709 , 0.16998007, 0.08238902, 0.13448139, 0.42324351,\n",
       "       0.15523832, 0.15672074, 0.08922379, 0.04765443, 0.09317477,\n",
       "       0.20310036, 0.2009349 , 0.33558365, 0.31222215, 0.14837215,\n",
       "       0.1396213 , 0.05657538, 0.14484353, 0.17420621, 0.09860919,\n",
       "       0.13506158, 0.17706329, 0.04672978, 0.07621038, 0.22812513,\n",
       "       0.27366304, 0.05233719, 0.18225914, 0.10266257, 0.1983847 ,\n",
       "       0.13513535, 0.24062684, 0.08996609, 0.30265769, 0.18724487,\n",
       "       0.12690037, 0.25972166, 0.0931009 , 0.17851509, 0.20177668,\n",
       "       0.06759618, 0.10004332, 0.07533586, 0.38521381, 0.06201038,\n",
       "       0.24666855, 0.06535723, 0.11437921, 0.17067862, 0.18850205,\n",
       "       0.1240813 , 0.042344  , 0.12462932, 0.28683248, 0.22298883,\n",
       "       0.09503175, 0.27533711, 0.09950609, 0.04746318, 0.05448434,\n",
       "       0.08352119, 0.10246875, 0.13397241, 0.07454121, 0.19931042,\n",
       "       0.10148051, 0.06988334, 0.07282729, 0.14911863, 0.27120582,\n",
       "       0.07042249, 0.04521705, 0.11876508, 0.11876342, 0.15975102,\n",
       "       0.28848111, 0.12450934, 0.10418174, 0.15132068, 0.03625517,\n",
       "       0.22215034, 0.18480568, 0.09150841, 0.14429653, 0.14233664,\n",
       "       0.07452409, 0.09604903, 0.21847935, 0.22341813, 0.12602908,\n",
       "       0.19760898, 0.29906897, 0.09393523, 0.11323986, 0.12044023,\n",
       "       0.08634664, 0.18230319, 0.05926965, 0.13659788, 0.15489132,\n",
       "       0.11734596, 0.23574402, 0.19325944, 0.17372414, 0.0655101 ,\n",
       "       0.08570368, 0.23936359, 0.2041567 , 0.07019054, 0.18070704,\n",
       "       0.32402775, 0.4913879 , 0.05772788, 0.07702757, 0.12217947,\n",
       "       0.06818909, 0.16301812, 0.08641822, 0.25083261, 0.3504635 ,\n",
       "       0.15444307, 0.31064808, 0.07151287, 0.18304843, 0.2798314 ,\n",
       "       0.09489978, 0.11251046, 0.08737599, 0.11310602, 0.35244932,\n",
       "       0.05808724, 0.26387632, 0.29689642, 0.03254511, 0.21235431,\n",
       "       0.08482644, 0.14605594, 0.06187669, 0.10375563, 0.16833427,\n",
       "       0.09242843, 0.17039901, 0.11148071, 0.06378324, 0.21852325,\n",
       "       0.19367931, 0.10591011, 0.1020772 , 0.12426327, 0.1398729 ,\n",
       "       0.13002705, 0.16357066, 0.11905813, 0.54428848, 0.15736   ,\n",
       "       0.08453377, 0.18195695, 0.07060318, 0.23885705, 0.05118958,\n",
       "       0.17611124, 0.05360298, 0.09989525, 0.08269601, 0.1565486 ,\n",
       "       0.10969798, 0.09978991, 0.1155113 , 0.24222023, 0.16238618,\n",
       "       0.07867611, 0.26377477, 0.27693112, 0.07805547, 0.18616047,\n",
       "       0.1637687 , 0.22462857, 0.06422482, 0.35016399, 0.22490179,\n",
       "       0.14899672, 0.27211781, 0.1422305 , 0.06414625, 0.06898152,\n",
       "       0.12016171, 0.10335272, 0.1686337 , 0.05177513, 0.10262719,\n",
       "       0.16330361, 0.12230227, 0.3980109 , 0.22973396, 0.22126579,\n",
       "       0.09470345, 0.1375389 , 0.214338  , 0.14390018, 0.12354483,\n",
       "       0.30306093, 0.04648994, 0.13640851, 0.14839667, 0.12240264,\n",
       "       0.12116493, 0.14671732, 0.30755158, 0.15281912, 0.04213892,\n",
       "       0.09418928, 0.2446152 , 0.25748437, 0.11761819, 0.07332074,\n",
       "       0.21134724, 0.10343881, 0.18969528, 0.31789378, 0.17837488,\n",
       "       0.06074786, 0.19755559, 0.11377213, 0.09804641, 0.16308573,\n",
       "       0.11683188, 0.04526308, 0.13061552, 0.16218388, 0.12688292,\n",
       "       0.11213406, 0.1212601 , 0.08190684, 0.20081095, 0.30904045,\n",
       "       0.06729486, 0.10449025, 0.10368761, 0.08955626, 0.1582115 ,\n",
       "       0.05248667, 0.17205437, 0.1519373 , 0.07150867, 0.34579224,\n",
       "       0.1152135 , 0.04466935, 0.11344395, 0.06482053, 0.10182617,\n",
       "       0.1105112 , 0.13749454, 0.10526785, 0.36536932, 0.09105835,\n",
       "       0.10896582, 0.22332245, 0.18643906, 0.12894009, 0.1051133 ,\n",
       "       0.02905491, 0.1661555 , 0.09579543, 0.19230964, 0.13059261,\n",
       "       0.21834857, 0.0516913 , 0.11156844, 0.19965533, 0.04833307,\n",
       "       0.16235658, 0.27092404, 0.07981896, 0.24894902, 0.12693005,\n",
       "       0.10515241, 0.05940775, 0.11932138, 0.18750266, 0.13834022,\n",
       "       0.17940405, 0.18145671, 0.32484569, 0.04866987, 0.04975361,\n",
       "       0.18440171, 0.15483461, 0.11555628, 0.18322126, 0.33022523,\n",
       "       0.07639863, 0.11322591, 0.32837907, 0.09700758, 0.11822252,\n",
       "       0.0727301 , 0.09933149, 0.08361954, 0.20897248, 0.04932133,\n",
       "       0.12046758, 0.32305152, 0.12470616, 0.14892941, 0.09561907,\n",
       "       0.19698319, 0.17584844, 0.1625454 , 0.08471655, 0.15535151,\n",
       "       0.15309743, 0.16627995])"
      ]
     },
     "execution_count": 70,
     "metadata": {},
     "output_type": "execute_result"
    }
   ],
   "source": [
    "y_pred_probs = logreg.predict_proba(X_test)[:, 1]\n",
    "y_pred_probs"
   ]
  },
  {
   "cell_type": "markdown",
   "id": "d1a085e9",
   "metadata": {},
   "source": [
    "### ROC-кривая"
   ]
  },
  {
   "cell_type": "code",
   "execution_count": 71,
   "id": "6adc83b3",
   "metadata": {},
   "outputs": [
    {
     "data": {
      "image/png": "[encoded data removed]",
      "text/plain": [
       "<Figure size 640x480 with 1 Axes>"
      ]
     },
     "metadata": {},
     "output_type": "display_data"
    }
   ],
   "source": [
    "from sklearn.metrics import roc_curve\n",
    "fpr, tpr, tresholds = roc_curve(y_test, y_pred_probs)\n",
    "plt.plot([0,1], [0,1], 'k--')\n",
    "plt.plot(fpr, tpr)\n",
    "plt.xlabel('FPR')\n",
    "plt.ylabel('TPR')\n",
    "plt.title('Кривая логистической регрессии')\n",
    "plt.show()"
   ]
  },
  {
   "cell_type": "code",
   "execution_count": 72,
   "id": "6b53fe52",
   "metadata": {},
   "outputs": [
    {
     "name": "stdout",
     "output_type": "stream",
     "text": [
      "0.681281584798868\n"
     ]
    }
   ],
   "source": [
    "from sklearn.metrics import roc_auc_score\n",
    "print(roc_auc_score(y_test, y_pred_probs))"
   ]
  },
  {
   "cell_type": "markdown",
   "id": "cfed8447",
   "metadata": {},
   "source": [
    "### Поиск по сетке кроссвалидации"
   ]
  },
  {
   "cell_type": "code",
   "execution_count": 73,
   "id": "2b34f657",
   "metadata": {},
   "outputs": [],
   "source": [
    "import pandas as pd\n",
    "import numpy as np\n",
    "from sklearn.model_selection import train_test_split\n",
    "diabetes_df = pd.read_csv('diabetes_clean.csv')\n",
    "diabetes_df = diabetes_df[diabetes_df['bmi'] > 0]\n",
    "diabetes_df = diabetes_df[diabetes_df['glucose'] > 0]\n",
    "diabetes_df = diabetes_df[diabetes_df['insulin'] > 0]\n",
    "X = diabetes_df.drop('glucose', axis=1).values\n",
    "y = diabetes_df['glucose']\n",
    "X_train, X_test, y_train, y_test = train_test_split(X, y, test_size=0.2, random_state = 13)"
   ]
  },
  {
   "cell_type": "code",
   "execution_count": 74,
   "id": "d26593c2",
   "metadata": {},
   "outputs": [
    {
     "name": "stderr",
     "output_type": "stream",
     "text": [
      "/Users/artemgolubnichiy/myJupyterNotebook/.conda/lib/python3.11/site-packages/sklearn/linear_model/_sag.py:348: ConvergenceWarning: The max_iter was reached which means the coef_ did not converge\n",
      "  warnings.warn(\n",
      "/Users/artemgolubnichiy/myJupyterNotebook/.conda/lib/python3.11/site-packages/sklearn/linear_model/_sag.py:348: ConvergenceWarning: The max_iter was reached which means the coef_ did not converge\n",
      "  warnings.warn(\n",
      "/Users/artemgolubnichiy/myJupyterNotebook/.conda/lib/python3.11/site-packages/sklearn/linear_model/_sag.py:348: ConvergenceWarning: The max_iter was reached which means the coef_ did not converge\n",
      "  warnings.warn(\n",
      "/Users/artemgolubnichiy/myJupyterNotebook/.conda/lib/python3.11/site-packages/sklearn/linear_model/_sag.py:348: ConvergenceWarning: The max_iter was reached which means the coef_ did not converge\n",
      "  warnings.warn(\n",
      "/Users/artemgolubnichiy/myJupyterNotebook/.conda/lib/python3.11/site-packages/sklearn/linear_model/_sag.py:348: ConvergenceWarning: The max_iter was reached which means the coef_ did not converge\n",
      "  warnings.warn(\n",
      "/Users/artemgolubnichiy/myJupyterNotebook/.conda/lib/python3.11/site-packages/sklearn/linear_model/_sag.py:348: ConvergenceWarning: The max_iter was reached which means the coef_ did not converge\n",
      "  warnings.warn(\n",
      "/Users/artemgolubnichiy/myJupyterNotebook/.conda/lib/python3.11/site-packages/sklearn/linear_model/_sag.py:348: ConvergenceWarning: The max_iter was reached which means the coef_ did not converge\n",
      "  warnings.warn(\n",
      "/Users/artemgolubnichiy/myJupyterNotebook/.conda/lib/python3.11/site-packages/sklearn/linear_model/_sag.py:348: ConvergenceWarning: The max_iter was reached which means the coef_ did not converge\n",
      "  warnings.warn(\n",
      "/Users/artemgolubnichiy/myJupyterNotebook/.conda/lib/python3.11/site-packages/sklearn/linear_model/_sag.py:348: ConvergenceWarning: The max_iter was reached which means the coef_ did not converge\n",
      "  warnings.warn(\n",
      "/Users/artemgolubnichiy/myJupyterNotebook/.conda/lib/python3.11/site-packages/sklearn/linear_model/_sag.py:348: ConvergenceWarning: The max_iter was reached which means the coef_ did not converge\n",
      "  warnings.warn(\n",
      "/Users/artemgolubnichiy/myJupyterNotebook/.conda/lib/python3.11/site-packages/sklearn/linear_model/_sag.py:348: ConvergenceWarning: The max_iter was reached which means the coef_ did not converge\n",
      "  warnings.warn(\n",
      "/Users/artemgolubnichiy/myJupyterNotebook/.conda/lib/python3.11/site-packages/sklearn/linear_model/_sag.py:348: ConvergenceWarning: The max_iter was reached which means the coef_ did not converge\n",
      "  warnings.warn(\n",
      "/Users/artemgolubnichiy/myJupyterNotebook/.conda/lib/python3.11/site-packages/sklearn/linear_model/_sag.py:348: ConvergenceWarning: The max_iter was reached which means the coef_ did not converge\n",
      "  warnings.warn(\n",
      "/Users/artemgolubnichiy/myJupyterNotebook/.conda/lib/python3.11/site-packages/sklearn/linear_model/_sag.py:348: ConvergenceWarning: The max_iter was reached which means the coef_ did not converge\n",
      "  warnings.warn(\n",
      "/Users/artemgolubnichiy/myJupyterNotebook/.conda/lib/python3.11/site-packages/sklearn/linear_model/_sag.py:348: ConvergenceWarning: The max_iter was reached which means the coef_ did not converge\n",
      "  warnings.warn(\n",
      "/Users/artemgolubnichiy/myJupyterNotebook/.conda/lib/python3.11/site-packages/sklearn/linear_model/_sag.py:348: ConvergenceWarning: The max_iter was reached which means the coef_ did not converge\n",
      "  warnings.warn(\n",
      "/Users/artemgolubnichiy/myJupyterNotebook/.conda/lib/python3.11/site-packages/sklearn/linear_model/_sag.py:348: ConvergenceWarning: The max_iter was reached which means the coef_ did not converge\n",
      "  warnings.warn(\n",
      "/Users/artemgolubnichiy/myJupyterNotebook/.conda/lib/python3.11/site-packages/sklearn/linear_model/_sag.py:348: ConvergenceWarning: The max_iter was reached which means the coef_ did not converge\n",
      "  warnings.warn(\n",
      "/Users/artemgolubnichiy/myJupyterNotebook/.conda/lib/python3.11/site-packages/sklearn/linear_model/_sag.py:348: ConvergenceWarning: The max_iter was reached which means the coef_ did not converge\n",
      "  warnings.warn(\n",
      "/Users/artemgolubnichiy/myJupyterNotebook/.conda/lib/python3.11/site-packages/sklearn/linear_model/_sag.py:348: ConvergenceWarning: The max_iter was reached which means the coef_ did not converge\n",
      "  warnings.warn(\n",
      "/Users/artemgolubnichiy/myJupyterNotebook/.conda/lib/python3.11/site-packages/sklearn/linear_model/_sag.py:348: ConvergenceWarning: The max_iter was reached which means the coef_ did not converge\n",
      "  warnings.warn(\n",
      "/Users/artemgolubnichiy/myJupyterNotebook/.conda/lib/python3.11/site-packages/sklearn/linear_model/_sag.py:348: ConvergenceWarning: The max_iter was reached which means the coef_ did not converge\n",
      "  warnings.warn(\n",
      "/Users/artemgolubnichiy/myJupyterNotebook/.conda/lib/python3.11/site-packages/sklearn/linear_model/_sag.py:348: ConvergenceWarning: The max_iter was reached which means the coef_ did not converge\n",
      "  warnings.warn(\n",
      "/Users/artemgolubnichiy/myJupyterNotebook/.conda/lib/python3.11/site-packages/sklearn/linear_model/_sag.py:348: ConvergenceWarning: The max_iter was reached which means the coef_ did not converge\n",
      "  warnings.warn(\n",
      "/Users/artemgolubnichiy/myJupyterNotebook/.conda/lib/python3.11/site-packages/sklearn/linear_model/_sag.py:348: ConvergenceWarning: The max_iter was reached which means the coef_ did not converge\n",
      "  warnings.warn(\n",
      "/Users/artemgolubnichiy/myJupyterNotebook/.conda/lib/python3.11/site-packages/sklearn/linear_model/_sag.py:348: ConvergenceWarning: The max_iter was reached which means the coef_ did not converge\n",
      "  warnings.warn(\n",
      "/Users/artemgolubnichiy/myJupyterNotebook/.conda/lib/python3.11/site-packages/sklearn/linear_model/_sag.py:348: ConvergenceWarning: The max_iter was reached which means the coef_ did not converge\n",
      "  warnings.warn(\n",
      "/Users/artemgolubnichiy/myJupyterNotebook/.conda/lib/python3.11/site-packages/sklearn/linear_model/_sag.py:348: ConvergenceWarning: The max_iter was reached which means the coef_ did not converge\n",
      "  warnings.warn(\n",
      "/Users/artemgolubnichiy/myJupyterNotebook/.conda/lib/python3.11/site-packages/sklearn/linear_model/_sag.py:348: ConvergenceWarning: The max_iter was reached which means the coef_ did not converge\n",
      "  warnings.warn(\n",
      "/Users/artemgolubnichiy/myJupyterNotebook/.conda/lib/python3.11/site-packages/sklearn/linear_model/_sag.py:348: ConvergenceWarning: The max_iter was reached which means the coef_ did not converge\n",
      "  warnings.warn(\n",
      "/Users/artemgolubnichiy/myJupyterNotebook/.conda/lib/python3.11/site-packages/sklearn/linear_model/_sag.py:348: ConvergenceWarning: The max_iter was reached which means the coef_ did not converge\n",
      "  warnings.warn(\n",
      "/Users/artemgolubnichiy/myJupyterNotebook/.conda/lib/python3.11/site-packages/sklearn/linear_model/_sag.py:348: ConvergenceWarning: The max_iter was reached which means the coef_ did not converge\n",
      "  warnings.warn(\n",
      "/Users/artemgolubnichiy/myJupyterNotebook/.conda/lib/python3.11/site-packages/sklearn/linear_model/_sag.py:348: ConvergenceWarning: The max_iter was reached which means the coef_ did not converge\n",
      "  warnings.warn(\n",
      "/Users/artemgolubnichiy/myJupyterNotebook/.conda/lib/python3.11/site-packages/sklearn/linear_model/_sag.py:348: ConvergenceWarning: The max_iter was reached which means the coef_ did not converge\n",
      "  warnings.warn(\n",
      "/Users/artemgolubnichiy/myJupyterNotebook/.conda/lib/python3.11/site-packages/sklearn/linear_model/_sag.py:348: ConvergenceWarning: The max_iter was reached which means the coef_ did not converge\n",
      "  warnings.warn(\n",
      "/Users/artemgolubnichiy/myJupyterNotebook/.conda/lib/python3.11/site-packages/sklearn/linear_model/_sag.py:348: ConvergenceWarning: The max_iter was reached which means the coef_ did not converge\n",
      "  warnings.warn(\n",
      "/Users/artemgolubnichiy/myJupyterNotebook/.conda/lib/python3.11/site-packages/sklearn/linear_model/_sag.py:348: ConvergenceWarning: The max_iter was reached which means the coef_ did not converge\n",
      "  warnings.warn(\n",
      "/Users/artemgolubnichiy/myJupyterNotebook/.conda/lib/python3.11/site-packages/sklearn/linear_model/_sag.py:348: ConvergenceWarning: The max_iter was reached which means the coef_ did not converge\n",
      "  warnings.warn(\n",
      "/Users/artemgolubnichiy/myJupyterNotebook/.conda/lib/python3.11/site-packages/sklearn/linear_model/_sag.py:348: ConvergenceWarning: The max_iter was reached which means the coef_ did not converge\n",
      "  warnings.warn(\n",
      "/Users/artemgolubnichiy/myJupyterNotebook/.conda/lib/python3.11/site-packages/sklearn/linear_model/_sag.py:348: ConvergenceWarning: The max_iter was reached which means the coef_ did not converge\n",
      "  warnings.warn(\n",
      "/Users/artemgolubnichiy/myJupyterNotebook/.conda/lib/python3.11/site-packages/sklearn/linear_model/_sag.py:348: ConvergenceWarning: The max_iter was reached which means the coef_ did not converge\n",
      "  warnings.warn(\n",
      "/Users/artemgolubnichiy/myJupyterNotebook/.conda/lib/python3.11/site-packages/sklearn/linear_model/_sag.py:348: ConvergenceWarning: The max_iter was reached which means the coef_ did not converge\n",
      "  warnings.warn(\n",
      "/Users/artemgolubnichiy/myJupyterNotebook/.conda/lib/python3.11/site-packages/sklearn/linear_model/_sag.py:348: ConvergenceWarning: The max_iter was reached which means the coef_ did not converge\n",
      "  warnings.warn(\n",
      "/Users/artemgolubnichiy/myJupyterNotebook/.conda/lib/python3.11/site-packages/sklearn/linear_model/_sag.py:348: ConvergenceWarning: The max_iter was reached which means the coef_ did not converge\n",
      "  warnings.warn(\n",
      "/Users/artemgolubnichiy/myJupyterNotebook/.conda/lib/python3.11/site-packages/sklearn/linear_model/_sag.py:348: ConvergenceWarning: The max_iter was reached which means the coef_ did not converge\n",
      "  warnings.warn(\n",
      "/Users/artemgolubnichiy/myJupyterNotebook/.conda/lib/python3.11/site-packages/sklearn/linear_model/_sag.py:348: ConvergenceWarning: The max_iter was reached which means the coef_ did not converge\n",
      "  warnings.warn(\n",
      "/Users/artemgolubnichiy/myJupyterNotebook/.conda/lib/python3.11/site-packages/sklearn/linear_model/_sag.py:348: ConvergenceWarning: The max_iter was reached which means the coef_ did not converge\n",
      "  warnings.warn(\n",
      "/Users/artemgolubnichiy/myJupyterNotebook/.conda/lib/python3.11/site-packages/sklearn/linear_model/_sag.py:348: ConvergenceWarning: The max_iter was reached which means the coef_ did not converge\n",
      "  warnings.warn(\n",
      "/Users/artemgolubnichiy/myJupyterNotebook/.conda/lib/python3.11/site-packages/sklearn/linear_model/_sag.py:348: ConvergenceWarning: The max_iter was reached which means the coef_ did not converge\n",
      "  warnings.warn(\n",
      "/Users/artemgolubnichiy/myJupyterNotebook/.conda/lib/python3.11/site-packages/sklearn/linear_model/_sag.py:348: ConvergenceWarning: The max_iter was reached which means the coef_ did not converge\n",
      "  warnings.warn(\n",
      "/Users/artemgolubnichiy/myJupyterNotebook/.conda/lib/python3.11/site-packages/sklearn/linear_model/_sag.py:348: ConvergenceWarning: The max_iter was reached which means the coef_ did not converge\n",
      "  warnings.warn(\n",
      "/Users/artemgolubnichiy/myJupyterNotebook/.conda/lib/python3.11/site-packages/sklearn/linear_model/_sag.py:348: ConvergenceWarning: The max_iter was reached which means the coef_ did not converge\n",
      "  warnings.warn(\n",
      "/Users/artemgolubnichiy/myJupyterNotebook/.conda/lib/python3.11/site-packages/sklearn/linear_model/_sag.py:348: ConvergenceWarning: The max_iter was reached which means the coef_ did not converge\n",
      "  warnings.warn(\n",
      "/Users/artemgolubnichiy/myJupyterNotebook/.conda/lib/python3.11/site-packages/sklearn/linear_model/_sag.py:348: ConvergenceWarning: The max_iter was reached which means the coef_ did not converge\n",
      "  warnings.warn(\n",
      "/Users/artemgolubnichiy/myJupyterNotebook/.conda/lib/python3.11/site-packages/sklearn/linear_model/_sag.py:348: ConvergenceWarning: The max_iter was reached which means the coef_ did not converge\n",
      "  warnings.warn(\n",
      "/Users/artemgolubnichiy/myJupyterNotebook/.conda/lib/python3.11/site-packages/sklearn/linear_model/_sag.py:348: ConvergenceWarning: The max_iter was reached which means the coef_ did not converge\n",
      "  warnings.warn(\n",
      "/Users/artemgolubnichiy/myJupyterNotebook/.conda/lib/python3.11/site-packages/sklearn/linear_model/_sag.py:348: ConvergenceWarning: The max_iter was reached which means the coef_ did not converge\n",
      "  warnings.warn(\n",
      "/Users/artemgolubnichiy/myJupyterNotebook/.conda/lib/python3.11/site-packages/sklearn/linear_model/_sag.py:348: ConvergenceWarning: The max_iter was reached which means the coef_ did not converge\n",
      "  warnings.warn(\n",
      "/Users/artemgolubnichiy/myJupyterNotebook/.conda/lib/python3.11/site-packages/sklearn/linear_model/_sag.py:348: ConvergenceWarning: The max_iter was reached which means the coef_ did not converge\n",
      "  warnings.warn(\n",
      "/Users/artemgolubnichiy/myJupyterNotebook/.conda/lib/python3.11/site-packages/sklearn/linear_model/_sag.py:348: ConvergenceWarning: The max_iter was reached which means the coef_ did not converge\n",
      "  warnings.warn(\n",
      "/Users/artemgolubnichiy/myJupyterNotebook/.conda/lib/python3.11/site-packages/sklearn/linear_model/_sag.py:348: ConvergenceWarning: The max_iter was reached which means the coef_ did not converge\n",
      "  warnings.warn(\n",
      "/Users/artemgolubnichiy/myJupyterNotebook/.conda/lib/python3.11/site-packages/sklearn/linear_model/_sag.py:348: ConvergenceWarning: The max_iter was reached which means the coef_ did not converge\n",
      "  warnings.warn(\n",
      "/Users/artemgolubnichiy/myJupyterNotebook/.conda/lib/python3.11/site-packages/sklearn/linear_model/_sag.py:348: ConvergenceWarning: The max_iter was reached which means the coef_ did not converge\n",
      "  warnings.warn(\n",
      "/Users/artemgolubnichiy/myJupyterNotebook/.conda/lib/python3.11/site-packages/sklearn/linear_model/_sag.py:348: ConvergenceWarning: The max_iter was reached which means the coef_ did not converge\n",
      "  warnings.warn(\n",
      "/Users/artemgolubnichiy/myJupyterNotebook/.conda/lib/python3.11/site-packages/sklearn/linear_model/_sag.py:348: ConvergenceWarning: The max_iter was reached which means the coef_ did not converge\n",
      "  warnings.warn(\n",
      "/Users/artemgolubnichiy/myJupyterNotebook/.conda/lib/python3.11/site-packages/sklearn/linear_model/_sag.py:348: ConvergenceWarning: The max_iter was reached which means the coef_ did not converge\n",
      "  warnings.warn(\n",
      "/Users/artemgolubnichiy/myJupyterNotebook/.conda/lib/python3.11/site-packages/sklearn/linear_model/_sag.py:348: ConvergenceWarning: The max_iter was reached which means the coef_ did not converge\n",
      "  warnings.warn(\n",
      "/Users/artemgolubnichiy/myJupyterNotebook/.conda/lib/python3.11/site-packages/sklearn/linear_model/_sag.py:348: ConvergenceWarning: The max_iter was reached which means the coef_ did not converge\n",
      "  warnings.warn(\n",
      "/Users/artemgolubnichiy/myJupyterNotebook/.conda/lib/python3.11/site-packages/sklearn/linear_model/_sag.py:348: ConvergenceWarning: The max_iter was reached which means the coef_ did not converge\n",
      "  warnings.warn(\n",
      "/Users/artemgolubnichiy/myJupyterNotebook/.conda/lib/python3.11/site-packages/sklearn/linear_model/_sag.py:348: ConvergenceWarning: The max_iter was reached which means the coef_ did not converge\n",
      "  warnings.warn(\n",
      "/Users/artemgolubnichiy/myJupyterNotebook/.conda/lib/python3.11/site-packages/sklearn/linear_model/_sag.py:348: ConvergenceWarning: The max_iter was reached which means the coef_ did not converge\n",
      "  warnings.warn(\n",
      "/Users/artemgolubnichiy/myJupyterNotebook/.conda/lib/python3.11/site-packages/sklearn/linear_model/_sag.py:348: ConvergenceWarning: The max_iter was reached which means the coef_ did not converge\n",
      "  warnings.warn(\n",
      "/Users/artemgolubnichiy/myJupyterNotebook/.conda/lib/python3.11/site-packages/sklearn/linear_model/_sag.py:348: ConvergenceWarning: The max_iter was reached which means the coef_ did not converge\n",
      "  warnings.warn(\n",
      "/Users/artemgolubnichiy/myJupyterNotebook/.conda/lib/python3.11/site-packages/sklearn/linear_model/_sag.py:348: ConvergenceWarning: The max_iter was reached which means the coef_ did not converge\n",
      "  warnings.warn(\n",
      "/Users/artemgolubnichiy/myJupyterNotebook/.conda/lib/python3.11/site-packages/sklearn/linear_model/_sag.py:348: ConvergenceWarning: The max_iter was reached which means the coef_ did not converge\n",
      "  warnings.warn(\n",
      "/Users/artemgolubnichiy/myJupyterNotebook/.conda/lib/python3.11/site-packages/sklearn/linear_model/_sag.py:348: ConvergenceWarning: The max_iter was reached which means the coef_ did not converge\n",
      "  warnings.warn(\n",
      "/Users/artemgolubnichiy/myJupyterNotebook/.conda/lib/python3.11/site-packages/sklearn/linear_model/_sag.py:348: ConvergenceWarning: The max_iter was reached which means the coef_ did not converge\n",
      "  warnings.warn(\n",
      "/Users/artemgolubnichiy/myJupyterNotebook/.conda/lib/python3.11/site-packages/sklearn/linear_model/_sag.py:348: ConvergenceWarning: The max_iter was reached which means the coef_ did not converge\n",
      "  warnings.warn(\n",
      "/Users/artemgolubnichiy/myJupyterNotebook/.conda/lib/python3.11/site-packages/sklearn/linear_model/_sag.py:348: ConvergenceWarning: The max_iter was reached which means the coef_ did not converge\n",
      "  warnings.warn(\n",
      "/Users/artemgolubnichiy/myJupyterNotebook/.conda/lib/python3.11/site-packages/sklearn/linear_model/_sag.py:348: ConvergenceWarning: The max_iter was reached which means the coef_ did not converge\n",
      "  warnings.warn(\n",
      "/Users/artemgolubnichiy/myJupyterNotebook/.conda/lib/python3.11/site-packages/sklearn/linear_model/_sag.py:348: ConvergenceWarning: The max_iter was reached which means the coef_ did not converge\n",
      "  warnings.warn(\n",
      "/Users/artemgolubnichiy/myJupyterNotebook/.conda/lib/python3.11/site-packages/sklearn/linear_model/_sag.py:348: ConvergenceWarning: The max_iter was reached which means the coef_ did not converge\n",
      "  warnings.warn(\n",
      "/Users/artemgolubnichiy/myJupyterNotebook/.conda/lib/python3.11/site-packages/sklearn/linear_model/_sag.py:348: ConvergenceWarning: The max_iter was reached which means the coef_ did not converge\n",
      "  warnings.warn(\n",
      "/Users/artemgolubnichiy/myJupyterNotebook/.conda/lib/python3.11/site-packages/sklearn/linear_model/_sag.py:348: ConvergenceWarning: The max_iter was reached which means the coef_ did not converge\n",
      "  warnings.warn(\n",
      "/Users/artemgolubnichiy/myJupyterNotebook/.conda/lib/python3.11/site-packages/sklearn/linear_model/_sag.py:348: ConvergenceWarning: The max_iter was reached which means the coef_ did not converge\n",
      "  warnings.warn(\n",
      "/Users/artemgolubnichiy/myJupyterNotebook/.conda/lib/python3.11/site-packages/sklearn/linear_model/_sag.py:348: ConvergenceWarning: The max_iter was reached which means the coef_ did not converge\n",
      "  warnings.warn(\n",
      "/Users/artemgolubnichiy/myJupyterNotebook/.conda/lib/python3.11/site-packages/sklearn/linear_model/_sag.py:348: ConvergenceWarning: The max_iter was reached which means the coef_ did not converge\n",
      "  warnings.warn(\n",
      "/Users/artemgolubnichiy/myJupyterNotebook/.conda/lib/python3.11/site-packages/sklearn/linear_model/_sag.py:348: ConvergenceWarning: The max_iter was reached which means the coef_ did not converge\n",
      "  warnings.warn(\n",
      "/Users/artemgolubnichiy/myJupyterNotebook/.conda/lib/python3.11/site-packages/sklearn/linear_model/_sag.py:348: ConvergenceWarning: The max_iter was reached which means the coef_ did not converge\n",
      "  warnings.warn(\n",
      "/Users/artemgolubnichiy/myJupyterNotebook/.conda/lib/python3.11/site-packages/sklearn/linear_model/_sag.py:348: ConvergenceWarning: The max_iter was reached which means the coef_ did not converge\n",
      "  warnings.warn(\n",
      "/Users/artemgolubnichiy/myJupyterNotebook/.conda/lib/python3.11/site-packages/sklearn/linear_model/_sag.py:348: ConvergenceWarning: The max_iter was reached which means the coef_ did not converge\n",
      "  warnings.warn(\n",
      "/Users/artemgolubnichiy/myJupyterNotebook/.conda/lib/python3.11/site-packages/sklearn/linear_model/_sag.py:348: ConvergenceWarning: The max_iter was reached which means the coef_ did not converge\n",
      "  warnings.warn(\n",
      "/Users/artemgolubnichiy/myJupyterNotebook/.conda/lib/python3.11/site-packages/sklearn/linear_model/_sag.py:348: ConvergenceWarning: The max_iter was reached which means the coef_ did not converge\n",
      "  warnings.warn(\n",
      "/Users/artemgolubnichiy/myJupyterNotebook/.conda/lib/python3.11/site-packages/sklearn/linear_model/_sag.py:348: ConvergenceWarning: The max_iter was reached which means the coef_ did not converge\n",
      "  warnings.warn(\n",
      "/Users/artemgolubnichiy/myJupyterNotebook/.conda/lib/python3.11/site-packages/sklearn/linear_model/_sag.py:348: ConvergenceWarning: The max_iter was reached which means the coef_ did not converge\n",
      "  warnings.warn(\n",
      "/Users/artemgolubnichiy/myJupyterNotebook/.conda/lib/python3.11/site-packages/sklearn/linear_model/_sag.py:348: ConvergenceWarning: The max_iter was reached which means the coef_ did not converge\n",
      "  warnings.warn(\n",
      "/Users/artemgolubnichiy/myJupyterNotebook/.conda/lib/python3.11/site-packages/sklearn/linear_model/_sag.py:348: ConvergenceWarning: The max_iter was reached which means the coef_ did not converge\n",
      "  warnings.warn(\n",
      "/Users/artemgolubnichiy/myJupyterNotebook/.conda/lib/python3.11/site-packages/sklearn/linear_model/_sag.py:348: ConvergenceWarning: The max_iter was reached which means the coef_ did not converge\n",
      "  warnings.warn(\n",
      "/Users/artemgolubnichiy/myJupyterNotebook/.conda/lib/python3.11/site-packages/sklearn/linear_model/_sag.py:348: ConvergenceWarning: The max_iter was reached which means the coef_ did not converge\n",
      "  warnings.warn(\n"
     ]
    },
    {
     "name": "stdout",
     "output_type": "stream",
     "text": [
      "{'alpha': 1.0, 'solver': 'lsqr'} 0.39339035756308327\n"
     ]
    },
    {
     "name": "stderr",
     "output_type": "stream",
     "text": [
      "/Users/artemgolubnichiy/myJupyterNotebook/.conda/lib/python3.11/site-packages/sklearn/linear_model/_sag.py:348: ConvergenceWarning: The max_iter was reached which means the coef_ did not converge\n",
      "  warnings.warn(\n"
     ]
    }
   ],
   "source": [
    "from sklearn.model_selection import GridSearchCV, cross_val_score, KFold\n",
    "from sklearn.linear_model import Ridge\n",
    "kf = KFold(n_splits=5, shuffle=True, random_state=13)\n",
    "param_grid = {'alpha': np.linspace(0.0001, 1, 20), 'solver': ['sag', 'lsqr']}\n",
    "\n",
    "ridge = Ridge()\n",
    "ridge_cv = GridSearchCV(ridge, param_grid, cv=kf)\n",
    "ridge_cv.fit(X_train, y_train)\n",
    "print(ridge_cv.best_params_, ridge_cv.best_score_)"
   ]
  },
  {
   "cell_type": "code",
   "execution_count": 75,
   "id": "496ff8df",
   "metadata": {},
   "outputs": [],
   "source": [
    "y_pred = ridge_cv.best_estimator_.predict(X_test)"
   ]
  },
  {
   "cell_type": "code",
   "execution_count": 76,
   "id": "88861c3a",
   "metadata": {},
   "outputs": [
    {
     "data": {
      "text/plain": [
       "0.467537627938737"
      ]
     },
     "execution_count": 76,
     "metadata": {},
     "output_type": "execute_result"
    }
   ],
   "source": [
    "from sklearn.metrics import r2_score\n",
    "r2_score(y_test, y_pred)"
   ]
  },
  {
   "cell_type": "code",
   "execution_count": 77,
   "id": "fd93acd1",
   "metadata": {},
   "outputs": [
    {
     "name": "stdout",
     "output_type": "stream",
     "text": [
      "{'solver': 'lsqr', 'alpha': 1.0} 0.39339035756308327\n"
     ]
    },
    {
     "name": "stderr",
     "output_type": "stream",
     "text": [
      "/Users/artemgolubnichiy/myJupyterNotebook/.conda/lib/python3.11/site-packages/sklearn/linear_model/_sag.py:348: ConvergenceWarning: The max_iter was reached which means the coef_ did not converge\n",
      "  warnings.warn(\n",
      "/Users/artemgolubnichiy/myJupyterNotebook/.conda/lib/python3.11/site-packages/sklearn/linear_model/_sag.py:348: ConvergenceWarning: The max_iter was reached which means the coef_ did not converge\n",
      "  warnings.warn(\n",
      "/Users/artemgolubnichiy/myJupyterNotebook/.conda/lib/python3.11/site-packages/sklearn/linear_model/_sag.py:348: ConvergenceWarning: The max_iter was reached which means the coef_ did not converge\n",
      "  warnings.warn(\n",
      "/Users/artemgolubnichiy/myJupyterNotebook/.conda/lib/python3.11/site-packages/sklearn/linear_model/_sag.py:348: ConvergenceWarning: The max_iter was reached which means the coef_ did not converge\n",
      "  warnings.warn(\n",
      "/Users/artemgolubnichiy/myJupyterNotebook/.conda/lib/python3.11/site-packages/sklearn/linear_model/_sag.py:348: ConvergenceWarning: The max_iter was reached which means the coef_ did not converge\n",
      "  warnings.warn(\n",
      "/Users/artemgolubnichiy/myJupyterNotebook/.conda/lib/python3.11/site-packages/sklearn/linear_model/_sag.py:348: ConvergenceWarning: The max_iter was reached which means the coef_ did not converge\n",
      "  warnings.warn(\n",
      "/Users/artemgolubnichiy/myJupyterNotebook/.conda/lib/python3.11/site-packages/sklearn/linear_model/_sag.py:348: ConvergenceWarning: The max_iter was reached which means the coef_ did not converge\n",
      "  warnings.warn(\n",
      "/Users/artemgolubnichiy/myJupyterNotebook/.conda/lib/python3.11/site-packages/sklearn/linear_model/_sag.py:348: ConvergenceWarning: The max_iter was reached which means the coef_ did not converge\n",
      "  warnings.warn(\n",
      "/Users/artemgolubnichiy/myJupyterNotebook/.conda/lib/python3.11/site-packages/sklearn/linear_model/_sag.py:348: ConvergenceWarning: The max_iter was reached which means the coef_ did not converge\n",
      "  warnings.warn(\n",
      "/Users/artemgolubnichiy/myJupyterNotebook/.conda/lib/python3.11/site-packages/sklearn/linear_model/_sag.py:348: ConvergenceWarning: The max_iter was reached which means the coef_ did not converge\n",
      "  warnings.warn(\n",
      "/Users/artemgolubnichiy/myJupyterNotebook/.conda/lib/python3.11/site-packages/sklearn/linear_model/_sag.py:348: ConvergenceWarning: The max_iter was reached which means the coef_ did not converge\n",
      "  warnings.warn(\n",
      "/Users/artemgolubnichiy/myJupyterNotebook/.conda/lib/python3.11/site-packages/sklearn/linear_model/_sag.py:348: ConvergenceWarning: The max_iter was reached which means the coef_ did not converge\n",
      "  warnings.warn(\n",
      "/Users/artemgolubnichiy/myJupyterNotebook/.conda/lib/python3.11/site-packages/sklearn/linear_model/_sag.py:348: ConvergenceWarning: The max_iter was reached which means the coef_ did not converge\n",
      "  warnings.warn(\n",
      "/Users/artemgolubnichiy/myJupyterNotebook/.conda/lib/python3.11/site-packages/sklearn/linear_model/_sag.py:348: ConvergenceWarning: The max_iter was reached which means the coef_ did not converge\n",
      "  warnings.warn(\n",
      "/Users/artemgolubnichiy/myJupyterNotebook/.conda/lib/python3.11/site-packages/sklearn/linear_model/_sag.py:348: ConvergenceWarning: The max_iter was reached which means the coef_ did not converge\n",
      "  warnings.warn(\n"
     ]
    }
   ],
   "source": [
    "from sklearn.model_selection import RandomizedSearchCV\n",
    "kf = KFold(n_splits=5, shuffle=True, random_state=13)\n",
    "param_grid = {'alpha': np.linspace(0.0001, 1, 20), 'solver': ['sag', 'lsqr']}\n",
    "\n",
    "ridge = Ridge()\n",
    "ridge_cv = RandomizedSearchCV(ridge, param_grid, cv=kf, n_iter=5)\n",
    "ridge_cv.fit(X_train, y_train)\n",
    "print(ridge_cv.best_params_, ridge_cv.best_score_)"
   ]
  },
  {
   "cell_type": "code",
   "execution_count": 78,
   "id": "f64b65be",
   "metadata": {},
   "outputs": [
    {
     "data": {
      "text/plain": [
       "0.467537627938737"
      ]
     },
     "execution_count": 78,
     "metadata": {},
     "output_type": "execute_result"
    }
   ],
   "source": [
    "from sklearn.metrics import r2_score\n",
    "r2_score(y_test, y_pred)"
   ]
  }
 ],
 "metadata": {
  "kernelspec": {
   "display_name": "Python 3",
   "language": "python",
   "name": "python3"
  },
  "language_info": {
   "codemirror_mode": {
    "name": "ipython",
    "version": 3
   },
   "file_extension": ".py",
   "mimetype": "text/x-python",
   "name": "python",
   "nbconvert_exporter": "python",
   "pygments_lexer": "ipython3",
   "version": "3.11.8"
  }
 },
 "nbformat": 4,
 "nbformat_minor": 5
}
