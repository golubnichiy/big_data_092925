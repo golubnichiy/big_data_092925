{
 "cells": [
  {
   "cell_type": "markdown",
   "id": "d480178f",
   "metadata": {},
   "source": [
    "### Практическая работа №4 – Создание рекомендательной системы "
   ]
  },
  {
   "cell_type": "markdown",
   "id": "55a6f426",
   "metadata": {},
   "source": [
    "1. Используйте любой датасет с описанием товара, на основании описание товара предложите аналогичный товар. \n",
    "2. Проведите анализ данных используя Jupyter Notebook.\n",
    "3. Итоговый файл отправьте на электронную почту `artem@golubnichij.ru` с темой письма **Big Data 09_25**"
   ]
  }
 ],
 "metadata": {
  "language_info": {
   "name": "python"
  }
 },
 "nbformat": 4,
 "nbformat_minor": 5
}
