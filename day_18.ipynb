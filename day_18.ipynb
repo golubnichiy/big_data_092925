{
 "cells": [
  {
   "cell_type": "code",
   "execution_count": 1,
   "id": "83c78e31",
   "metadata": {},
   "outputs": [],
   "source": [
    "#!pip install -q pyspark"
   ]
  },
  {
   "cell_type": "markdown",
   "id": "35505df9",
   "metadata": {},
   "source": [
    "### Создаем Spark сессию и устанавливаем зависимости"
   ]
  },
  {
   "cell_type": "code",
   "execution_count": 1,
   "id": "298f600b",
   "metadata": {},
   "outputs": [
    {
     "name": "stderr",
     "output_type": "stream",
     "text": [
      "WARNING: Using incubator modules: jdk.incubator.vector\n",
      "Using Spark's default log4j profile: org/apache/spark/log4j2-defaults.properties\n",
      "Setting default log level to \"WARN\".\n",
      "To adjust logging level use sc.setLogLevel(newLevel). For SparkR, use setLogLevel(newLevel).\n",
      "25/10/23 15:35:13 WARN NativeCodeLoader: Unable to load native-hadoop library for your platform... using builtin-java classes where applicable\n"
     ]
    }
   ],
   "source": [
    "from pyspark.sql import SparkSession\n",
    "spark = SparkSession.builder.appName('Titanic').getOrCreate()"
   ]
  },
  {
   "cell_type": "markdown",
   "id": "06bf2dea",
   "metadata": {},
   "source": [
    "### Импортирование дополнительных библиотек"
   ]
  },
  {
   "cell_type": "code",
   "execution_count": 2,
   "id": "273b958d",
   "metadata": {},
   "outputs": [],
   "source": [
    "from itertools import chain\n",
    "from pyspark.sql.functions import count, mean, when, lit, create_map, regexp_extract"
   ]
  },
  {
   "cell_type": "markdown",
   "id": "669106c2",
   "metadata": {},
   "source": [
    "### Импортирование данных"
   ]
  },
  {
   "cell_type": "code",
   "execution_count": 3,
   "id": "5b0d1909",
   "metadata": {},
   "outputs": [],
   "source": [
    "df = spark.read.csv('tit_train.csv', header=True, inferSchema=True)"
   ]
  },
  {
   "cell_type": "markdown",
   "id": "9b43d898",
   "metadata": {},
   "source": [
    "### Просмотр схемы"
   ]
  },
  {
   "cell_type": "code",
   "execution_count": 4,
   "id": "14706e41",
   "metadata": {},
   "outputs": [
    {
     "name": "stdout",
     "output_type": "stream",
     "text": [
      "root\n",
      " |-- PassengerId: integer (nullable = true)\n",
      " |-- Survived: integer (nullable = true)\n",
      " |-- Pclass: integer (nullable = true)\n",
      " |-- Name: string (nullable = true)\n",
      " |-- Sex: string (nullable = true)\n",
      " |-- Age: double (nullable = true)\n",
      " |-- SibSp: integer (nullable = true)\n",
      " |-- Parch: integer (nullable = true)\n",
      " |-- Ticket: string (nullable = true)\n",
      " |-- Fare: double (nullable = true)\n",
      " |-- Cabin: string (nullable = true)\n",
      " |-- Embarked: string (nullable = true)\n",
      "\n"
     ]
    }
   ],
   "source": [
    "df.printSchema()"
   ]
  },
  {
   "cell_type": "code",
   "execution_count": 5,
   "id": "d1e4ca82",
   "metadata": {},
   "outputs": [
    {
     "name": "stdout",
     "output_type": "stream",
     "text": [
      "+-----------+--------+------+--------------------+------+----+-----+-----+----------------+-------+-----+--------+\n",
      "|PassengerId|Survived|Pclass|                Name|   Sex| Age|SibSp|Parch|          Ticket|   Fare|Cabin|Embarked|\n",
      "+-----------+--------+------+--------------------+------+----+-----+-----+----------------+-------+-----+--------+\n",
      "|          1|       0|     3|Braund, Mr. Owen ...|  male|22.0|    1|    0|       A/5 21171|   7.25| NULL|       S|\n",
      "|          2|       1|     1|Cumings, Mrs. Joh...|female|38.0|    1|    0|        PC 17599|71.2833|  C85|       C|\n",
      "|          3|       1|     3|Heikkinen, Miss. ...|female|26.0|    0|    0|STON/O2. 3101282|  7.925| NULL|       S|\n",
      "+-----------+--------+------+--------------------+------+----+-----+-----+----------------+-------+-----+--------+\n",
      "only showing top 3 rows\n"
     ]
    }
   ],
   "source": [
    "df.show(3)"
   ]
  },
  {
   "cell_type": "markdown",
   "id": "2d63bb32",
   "metadata": {},
   "source": [
    "### Отображение в Pandas"
   ]
  },
  {
   "cell_type": "code",
   "execution_count": 6,
   "id": "2b4a24aa",
   "metadata": {},
   "outputs": [
    {
     "data": {
      "text/html": [
       "<div>\n",
       "<style scoped>\n",
       "    .dataframe tbody tr th:only-of-type {\n",
       "        vertical-align: middle;\n",
       "    }\n",
       "\n",
       "    .dataframe tbody tr th {\n",
       "        vertical-align: top;\n",
       "    }\n",
       "\n",
       "    .dataframe thead th {\n",
       "        text-align: right;\n",
       "    }\n",
       "</style>\n",
       "<table border=\"1\" class=\"dataframe\">\n",
       "  <thead>\n",
       "    <tr style=\"text-align: right;\">\n",
       "      <th></th>\n",
       "      <th>PassengerId</th>\n",
       "      <th>Survived</th>\n",
       "      <th>Pclass</th>\n",
       "      <th>Name</th>\n",
       "      <th>Sex</th>\n",
       "      <th>Age</th>\n",
       "      <th>SibSp</th>\n",
       "      <th>Parch</th>\n",
       "      <th>Ticket</th>\n",
       "      <th>Fare</th>\n",
       "      <th>Cabin</th>\n",
       "      <th>Embarked</th>\n",
       "    </tr>\n",
       "  </thead>\n",
       "  <tbody>\n",
       "    <tr>\n",
       "      <th>0</th>\n",
       "      <td>1</td>\n",
       "      <td>0</td>\n",
       "      <td>3</td>\n",
       "      <td>Braund, Mr. Owen Harris</td>\n",
       "      <td>male</td>\n",
       "      <td>22.0</td>\n",
       "      <td>1</td>\n",
       "      <td>0</td>\n",
       "      <td>A/5 21171</td>\n",
       "      <td>7.2500</td>\n",
       "      <td>None</td>\n",
       "      <td>S</td>\n",
       "    </tr>\n",
       "    <tr>\n",
       "      <th>1</th>\n",
       "      <td>2</td>\n",
       "      <td>1</td>\n",
       "      <td>1</td>\n",
       "      <td>Cumings, Mrs. John Bradley (Florence Briggs Th...</td>\n",
       "      <td>female</td>\n",
       "      <td>38.0</td>\n",
       "      <td>1</td>\n",
       "      <td>0</td>\n",
       "      <td>PC 17599</td>\n",
       "      <td>71.2833</td>\n",
       "      <td>C85</td>\n",
       "      <td>C</td>\n",
       "    </tr>\n",
       "    <tr>\n",
       "      <th>2</th>\n",
       "      <td>3</td>\n",
       "      <td>1</td>\n",
       "      <td>3</td>\n",
       "      <td>Heikkinen, Miss. Laina</td>\n",
       "      <td>female</td>\n",
       "      <td>26.0</td>\n",
       "      <td>0</td>\n",
       "      <td>0</td>\n",
       "      <td>STON/O2. 3101282</td>\n",
       "      <td>7.9250</td>\n",
       "      <td>None</td>\n",
       "      <td>S</td>\n",
       "    </tr>\n",
       "    <tr>\n",
       "      <th>3</th>\n",
       "      <td>4</td>\n",
       "      <td>1</td>\n",
       "      <td>1</td>\n",
       "      <td>Futrelle, Mrs. Jacques Heath (Lily May Peel)</td>\n",
       "      <td>female</td>\n",
       "      <td>35.0</td>\n",
       "      <td>1</td>\n",
       "      <td>0</td>\n",
       "      <td>113803</td>\n",
       "      <td>53.1000</td>\n",
       "      <td>C123</td>\n",
       "      <td>S</td>\n",
       "    </tr>\n",
       "    <tr>\n",
       "      <th>4</th>\n",
       "      <td>5</td>\n",
       "      <td>0</td>\n",
       "      <td>3</td>\n",
       "      <td>Allen, Mr. William Henry</td>\n",
       "      <td>male</td>\n",
       "      <td>35.0</td>\n",
       "      <td>0</td>\n",
       "      <td>0</td>\n",
       "      <td>373450</td>\n",
       "      <td>8.0500</td>\n",
       "      <td>None</td>\n",
       "      <td>S</td>\n",
       "    </tr>\n",
       "    <tr>\n",
       "      <th>5</th>\n",
       "      <td>6</td>\n",
       "      <td>0</td>\n",
       "      <td>3</td>\n",
       "      <td>Moran, Mr. James</td>\n",
       "      <td>male</td>\n",
       "      <td>NaN</td>\n",
       "      <td>0</td>\n",
       "      <td>0</td>\n",
       "      <td>330877</td>\n",
       "      <td>8.4583</td>\n",
       "      <td>None</td>\n",
       "      <td>Q</td>\n",
       "    </tr>\n",
       "    <tr>\n",
       "      <th>6</th>\n",
       "      <td>7</td>\n",
       "      <td>0</td>\n",
       "      <td>1</td>\n",
       "      <td>McCarthy, Mr. Timothy J</td>\n",
       "      <td>male</td>\n",
       "      <td>54.0</td>\n",
       "      <td>0</td>\n",
       "      <td>0</td>\n",
       "      <td>17463</td>\n",
       "      <td>51.8625</td>\n",
       "      <td>E46</td>\n",
       "      <td>S</td>\n",
       "    </tr>\n",
       "    <tr>\n",
       "      <th>7</th>\n",
       "      <td>8</td>\n",
       "      <td>0</td>\n",
       "      <td>3</td>\n",
       "      <td>Palsson, Master. Gosta Leonard</td>\n",
       "      <td>male</td>\n",
       "      <td>2.0</td>\n",
       "      <td>3</td>\n",
       "      <td>1</td>\n",
       "      <td>349909</td>\n",
       "      <td>21.0750</td>\n",
       "      <td>None</td>\n",
       "      <td>S</td>\n",
       "    </tr>\n",
       "    <tr>\n",
       "      <th>8</th>\n",
       "      <td>9</td>\n",
       "      <td>1</td>\n",
       "      <td>3</td>\n",
       "      <td>Johnson, Mrs. Oscar W (Elisabeth Vilhelmina Berg)</td>\n",
       "      <td>female</td>\n",
       "      <td>27.0</td>\n",
       "      <td>0</td>\n",
       "      <td>2</td>\n",
       "      <td>347742</td>\n",
       "      <td>11.1333</td>\n",
       "      <td>None</td>\n",
       "      <td>S</td>\n",
       "    </tr>\n",
       "    <tr>\n",
       "      <th>9</th>\n",
       "      <td>10</td>\n",
       "      <td>1</td>\n",
       "      <td>2</td>\n",
       "      <td>Nasser, Mrs. Nicholas (Adele Achem)</td>\n",
       "      <td>female</td>\n",
       "      <td>14.0</td>\n",
       "      <td>1</td>\n",
       "      <td>0</td>\n",
       "      <td>237736</td>\n",
       "      <td>30.0708</td>\n",
       "      <td>None</td>\n",
       "      <td>C</td>\n",
       "    </tr>\n",
       "    <tr>\n",
       "      <th>10</th>\n",
       "      <td>11</td>\n",
       "      <td>1</td>\n",
       "      <td>3</td>\n",
       "      <td>Sandstrom, Miss. Marguerite Rut</td>\n",
       "      <td>female</td>\n",
       "      <td>4.0</td>\n",
       "      <td>1</td>\n",
       "      <td>1</td>\n",
       "      <td>PP 9549</td>\n",
       "      <td>16.7000</td>\n",
       "      <td>G6</td>\n",
       "      <td>S</td>\n",
       "    </tr>\n",
       "    <tr>\n",
       "      <th>11</th>\n",
       "      <td>12</td>\n",
       "      <td>1</td>\n",
       "      <td>1</td>\n",
       "      <td>Bonnell, Miss. Elizabeth</td>\n",
       "      <td>female</td>\n",
       "      <td>58.0</td>\n",
       "      <td>0</td>\n",
       "      <td>0</td>\n",
       "      <td>113783</td>\n",
       "      <td>26.5500</td>\n",
       "      <td>C103</td>\n",
       "      <td>S</td>\n",
       "    </tr>\n",
       "    <tr>\n",
       "      <th>12</th>\n",
       "      <td>13</td>\n",
       "      <td>0</td>\n",
       "      <td>3</td>\n",
       "      <td>Saundercock, Mr. William Henry</td>\n",
       "      <td>male</td>\n",
       "      <td>20.0</td>\n",
       "      <td>0</td>\n",
       "      <td>0</td>\n",
       "      <td>A/5. 2151</td>\n",
       "      <td>8.0500</td>\n",
       "      <td>None</td>\n",
       "      <td>S</td>\n",
       "    </tr>\n",
       "    <tr>\n",
       "      <th>13</th>\n",
       "      <td>14</td>\n",
       "      <td>0</td>\n",
       "      <td>3</td>\n",
       "      <td>Andersson, Mr. Anders Johan</td>\n",
       "      <td>male</td>\n",
       "      <td>39.0</td>\n",
       "      <td>1</td>\n",
       "      <td>5</td>\n",
       "      <td>347082</td>\n",
       "      <td>31.2750</td>\n",
       "      <td>None</td>\n",
       "      <td>S</td>\n",
       "    </tr>\n",
       "    <tr>\n",
       "      <th>14</th>\n",
       "      <td>15</td>\n",
       "      <td>0</td>\n",
       "      <td>3</td>\n",
       "      <td>Vestrom, Miss. Hulda Amanda Adolfina</td>\n",
       "      <td>female</td>\n",
       "      <td>14.0</td>\n",
       "      <td>0</td>\n",
       "      <td>0</td>\n",
       "      <td>350406</td>\n",
       "      <td>7.8542</td>\n",
       "      <td>None</td>\n",
       "      <td>S</td>\n",
       "    </tr>\n",
       "    <tr>\n",
       "      <th>15</th>\n",
       "      <td>16</td>\n",
       "      <td>1</td>\n",
       "      <td>2</td>\n",
       "      <td>Hewlett, Mrs. (Mary D Kingcome)</td>\n",
       "      <td>female</td>\n",
       "      <td>55.0</td>\n",
       "      <td>0</td>\n",
       "      <td>0</td>\n",
       "      <td>248706</td>\n",
       "      <td>16.0000</td>\n",
       "      <td>None</td>\n",
       "      <td>S</td>\n",
       "    </tr>\n",
       "    <tr>\n",
       "      <th>16</th>\n",
       "      <td>17</td>\n",
       "      <td>0</td>\n",
       "      <td>3</td>\n",
       "      <td>Rice, Master. Eugene</td>\n",
       "      <td>male</td>\n",
       "      <td>2.0</td>\n",
       "      <td>4</td>\n",
       "      <td>1</td>\n",
       "      <td>382652</td>\n",
       "      <td>29.1250</td>\n",
       "      <td>None</td>\n",
       "      <td>Q</td>\n",
       "    </tr>\n",
       "    <tr>\n",
       "      <th>17</th>\n",
       "      <td>18</td>\n",
       "      <td>1</td>\n",
       "      <td>2</td>\n",
       "      <td>Williams, Mr. Charles Eugene</td>\n",
       "      <td>male</td>\n",
       "      <td>NaN</td>\n",
       "      <td>0</td>\n",
       "      <td>0</td>\n",
       "      <td>244373</td>\n",
       "      <td>13.0000</td>\n",
       "      <td>None</td>\n",
       "      <td>S</td>\n",
       "    </tr>\n",
       "    <tr>\n",
       "      <th>18</th>\n",
       "      <td>19</td>\n",
       "      <td>0</td>\n",
       "      <td>3</td>\n",
       "      <td>Vander Planke, Mrs. Julius (Emelia Maria Vande...</td>\n",
       "      <td>female</td>\n",
       "      <td>31.0</td>\n",
       "      <td>1</td>\n",
       "      <td>0</td>\n",
       "      <td>345763</td>\n",
       "      <td>18.0000</td>\n",
       "      <td>None</td>\n",
       "      <td>S</td>\n",
       "    </tr>\n",
       "    <tr>\n",
       "      <th>19</th>\n",
       "      <td>20</td>\n",
       "      <td>1</td>\n",
       "      <td>3</td>\n",
       "      <td>Masselmani, Mrs. Fatima</td>\n",
       "      <td>female</td>\n",
       "      <td>NaN</td>\n",
       "      <td>0</td>\n",
       "      <td>0</td>\n",
       "      <td>2649</td>\n",
       "      <td>7.2250</td>\n",
       "      <td>None</td>\n",
       "      <td>C</td>\n",
       "    </tr>\n",
       "  </tbody>\n",
       "</table>\n",
       "</div>"
      ],
      "text/plain": [
       "    PassengerId  Survived  Pclass  \\\n",
       "0             1         0       3   \n",
       "1             2         1       1   \n",
       "2             3         1       3   \n",
       "3             4         1       1   \n",
       "4             5         0       3   \n",
       "5             6         0       3   \n",
       "6             7         0       1   \n",
       "7             8         0       3   \n",
       "8             9         1       3   \n",
       "9            10         1       2   \n",
       "10           11         1       3   \n",
       "11           12         1       1   \n",
       "12           13         0       3   \n",
       "13           14         0       3   \n",
       "14           15         0       3   \n",
       "15           16         1       2   \n",
       "16           17         0       3   \n",
       "17           18         1       2   \n",
       "18           19         0       3   \n",
       "19           20         1       3   \n",
       "\n",
       "                                                 Name     Sex   Age  SibSp  \\\n",
       "0                             Braund, Mr. Owen Harris    male  22.0      1   \n",
       "1   Cumings, Mrs. John Bradley (Florence Briggs Th...  female  38.0      1   \n",
       "2                              Heikkinen, Miss. Laina  female  26.0      0   \n",
       "3        Futrelle, Mrs. Jacques Heath (Lily May Peel)  female  35.0      1   \n",
       "4                            Allen, Mr. William Henry    male  35.0      0   \n",
       "5                                    Moran, Mr. James    male   NaN      0   \n",
       "6                             McCarthy, Mr. Timothy J    male  54.0      0   \n",
       "7                      Palsson, Master. Gosta Leonard    male   2.0      3   \n",
       "8   Johnson, Mrs. Oscar W (Elisabeth Vilhelmina Berg)  female  27.0      0   \n",
       "9                 Nasser, Mrs. Nicholas (Adele Achem)  female  14.0      1   \n",
       "10                    Sandstrom, Miss. Marguerite Rut  female   4.0      1   \n",
       "11                           Bonnell, Miss. Elizabeth  female  58.0      0   \n",
       "12                     Saundercock, Mr. William Henry    male  20.0      0   \n",
       "13                        Andersson, Mr. Anders Johan    male  39.0      1   \n",
       "14               Vestrom, Miss. Hulda Amanda Adolfina  female  14.0      0   \n",
       "15                   Hewlett, Mrs. (Mary D Kingcome)   female  55.0      0   \n",
       "16                               Rice, Master. Eugene    male   2.0      4   \n",
       "17                       Williams, Mr. Charles Eugene    male   NaN      0   \n",
       "18  Vander Planke, Mrs. Julius (Emelia Maria Vande...  female  31.0      1   \n",
       "19                            Masselmani, Mrs. Fatima  female   NaN      0   \n",
       "\n",
       "    Parch            Ticket     Fare Cabin Embarked  \n",
       "0       0         A/5 21171   7.2500  None        S  \n",
       "1       0          PC 17599  71.2833   C85        C  \n",
       "2       0  STON/O2. 3101282   7.9250  None        S  \n",
       "3       0            113803  53.1000  C123        S  \n",
       "4       0            373450   8.0500  None        S  \n",
       "5       0            330877   8.4583  None        Q  \n",
       "6       0             17463  51.8625   E46        S  \n",
       "7       1            349909  21.0750  None        S  \n",
       "8       2            347742  11.1333  None        S  \n",
       "9       0            237736  30.0708  None        C  \n",
       "10      1           PP 9549  16.7000    G6        S  \n",
       "11      0            113783  26.5500  C103        S  \n",
       "12      0         A/5. 2151   8.0500  None        S  \n",
       "13      5            347082  31.2750  None        S  \n",
       "14      0            350406   7.8542  None        S  \n",
       "15      0            248706  16.0000  None        S  \n",
       "16      1            382652  29.1250  None        Q  \n",
       "17      0            244373  13.0000  None        S  \n",
       "18      0            345763  18.0000  None        S  \n",
       "19      0              2649   7.2250  None        C  "
      ]
     },
     "execution_count": 6,
     "metadata": {},
     "output_type": "execute_result"
    }
   ],
   "source": [
    "df.limit(20).toPandas()"
   ]
  },
  {
   "cell_type": "markdown",
   "id": "e8863cfa",
   "metadata": {},
   "source": [
    "### Выборки"
   ]
  },
  {
   "cell_type": "code",
   "execution_count": 7,
   "id": "fae0534d",
   "metadata": {},
   "outputs": [
    {
     "name": "stdout",
     "output_type": "stream",
     "text": [
      "+--------+------+----+-------+\n",
      "|Survived|Pclass| Age|   Fare|\n",
      "+--------+------+----+-------+\n",
      "|       0|     3|22.0|   7.25|\n",
      "|       1|     1|38.0|71.2833|\n",
      "|       1|     3|26.0|  7.925|\n",
      "|       1|     1|35.0|   53.1|\n",
      "+--------+------+----+-------+\n",
      "only showing top 4 rows\n"
     ]
    }
   ],
   "source": [
    "df.select('Survived', 'Pclass', 'Age', 'Fare').show(4)"
   ]
  },
  {
   "cell_type": "markdown",
   "id": "fb2339c4",
   "metadata": {},
   "source": [
    "### Описательная статистика"
   ]
  },
  {
   "cell_type": "code",
   "execution_count": 8,
   "id": "c66c39c9",
   "metadata": {},
   "outputs": [
    {
     "name": "stderr",
     "output_type": "stream",
     "text": [
      "25/10/23 15:36:28 WARN SparkStringUtils: Truncated the string representation of a plan since it was too large. This behavior can be adjusted by setting 'spark.sql.debug.maxToStringFields'.\n"
     ]
    },
    {
     "name": "stdout",
     "output_type": "stream",
     "text": [
      "+-------+-------------------+------------------+------------------+-----------------+\n",
      "|summary|           Survived|            Pclass|               Age|             Fare|\n",
      "+-------+-------------------+------------------+------------------+-----------------+\n",
      "|  count|                891|               891|               714|              891|\n",
      "|   mean| 0.3838383838383838| 2.308641975308642| 29.69911764705882| 32.2042079685746|\n",
      "| stddev|0.48659245426485753|0.8360712409770491|14.526497332334035|49.69342859718089|\n",
      "|    min|                  0|                 1|              0.42|              0.0|\n",
      "|    25%|                  0|                 2|              20.0|           7.8958|\n",
      "|    50%|                  0|                 3|              28.0|          14.4542|\n",
      "|    75%|                  1|                 3|              38.0|             31.0|\n",
      "|    max|                  1|                 3|              80.0|         512.3292|\n",
      "+-------+-------------------+------------------+------------------+-----------------+\n",
      "\n"
     ]
    }
   ],
   "source": [
    "df.select('Survived', 'Pclass', 'Age', 'Fare').summary().show()"
   ]
  },
  {
   "cell_type": "code",
   "execution_count": 9,
   "id": "52c76a76",
   "metadata": {},
   "outputs": [
    {
     "name": "stdout",
     "output_type": "stream",
     "text": [
      "Количество записей: \t 891\n",
      "Количество переменных: \t 12\n"
     ]
    }
   ],
   "source": [
    "print('Количество записей: \\t', df.count())\n",
    "print('Количество переменных: \\t', len(df.columns))"
   ]
  },
  {
   "cell_type": "markdown",
   "id": "1f77fbd4",
   "metadata": {},
   "source": [
    "### EDA"
   ]
  },
  {
   "cell_type": "markdown",
   "id": "2ab0e8fb",
   "metadata": {},
   "source": [
    "#### Сколько человек выживших"
   ]
  },
  {
   "cell_type": "code",
   "execution_count": 10,
   "id": "60259793",
   "metadata": {},
   "outputs": [
    {
     "name": "stdout",
     "output_type": "stream",
     "text": [
      "+--------+-----+\n",
      "|Survived|count|\n",
      "+--------+-----+\n",
      "|       1|  342|\n",
      "|       0|  549|\n",
      "+--------+-----+\n",
      "\n"
     ]
    }
   ],
   "source": [
    "df.groupBy('Survived').count().show()"
   ]
  },
  {
   "cell_type": "markdown",
   "id": "9bb83c72",
   "metadata": {},
   "source": [
    "#### Количественные характеристики"
   ]
  },
  {
   "cell_type": "code",
   "execution_count": 11,
   "id": "9d95e4fc",
   "metadata": {},
   "outputs": [
    {
     "name": "stdout",
     "output_type": "stream",
     "text": [
      "+--------+------------------+------------------+\n",
      "|Survived|         avg(Fare)|          avg(Age)|\n",
      "+--------+------------------+------------------+\n",
      "|       1| 48.39540760233917|28.343689655172415|\n",
      "|       0|22.117886885245877| 30.62617924528302|\n",
      "+--------+------------------+------------------+\n",
      "\n"
     ]
    }
   ],
   "source": [
    "df.groupBy('Survived').mean('Fare', 'Age').show()"
   ]
  },
  {
   "cell_type": "markdown",
   "id": "d7a262d9",
   "metadata": {},
   "source": [
    "### Факторные переменные"
   ]
  },
  {
   "cell_type": "code",
   "execution_count": 12,
   "id": "bdfb697d",
   "metadata": {},
   "outputs": [
    {
     "name": "stdout",
     "output_type": "stream",
     "text": [
      "+--------+------+----+\n",
      "|Survived|female|male|\n",
      "+--------+------+----+\n",
      "|       1|   233| 109|\n",
      "|       0|    81| 468|\n",
      "+--------+------+----+\n",
      "\n"
     ]
    }
   ],
   "source": [
    "df.groupBy('Survived').pivot('Sex').count().show()"
   ]
  },
  {
   "cell_type": "code",
   "execution_count": 13,
   "id": "d7a3a5ca",
   "metadata": {},
   "outputs": [
    {
     "name": "stdout",
     "output_type": "stream",
     "text": [
      "+--------+---+---+---+\n",
      "|Survived|  1|  2|  3|\n",
      "+--------+---+---+---+\n",
      "|       1|136| 87|119|\n",
      "|       0| 80| 97|372|\n",
      "+--------+---+---+---+\n",
      "\n"
     ]
    }
   ],
   "source": [
    "df.groupBy('Survived').pivot('Pclass').count().show()"
   ]
  },
  {
   "cell_type": "code",
   "execution_count": 14,
   "id": "eef4feaf",
   "metadata": {},
   "outputs": [
    {
     "name": "stdout",
     "output_type": "stream",
     "text": [
      "+--------+---+---+---+---+---+----+----+\n",
      "|Survived|  0|  1|  2|  3|  4|   5|   8|\n",
      "+--------+---+---+---+---+---+----+----+\n",
      "|       1|210|112| 13|  4|  3|NULL|NULL|\n",
      "|       0|398| 97| 15| 12| 15|   5|   7|\n",
      "+--------+---+---+---+---+---+----+----+\n",
      "\n"
     ]
    }
   ],
   "source": [
    "df.groupBy('Survived').pivot('SibSp').count().show()"
   ]
  },
  {
   "cell_type": "markdown",
   "id": "ce1fa249",
   "metadata": {},
   "source": [
    "### Извлечение признаков"
   ]
  },
  {
   "cell_type": "code",
   "execution_count": 15,
   "id": "dcdeaaeb",
   "metadata": {},
   "outputs": [
    {
     "name": "stdout",
     "output_type": "stream",
     "text": [
      "PassengerId          0\n",
      "Survived             0\n",
      "Pclass               0\n",
      "Name                 0\n",
      "Sex                  0\n",
      "Age                  177\n",
      "SibSp                0\n",
      "Parch                0\n",
      "Ticket               0\n",
      "Fare                 0\n",
      "Cabin                687\n",
      "Embarked             2\n"
     ]
    }
   ],
   "source": [
    "for col in df.columns:\n",
    "    print(col.ljust(20), df.filter(df[col].isNull()).count())"
   ]
  },
  {
   "cell_type": "markdown",
   "id": "3a4d0467",
   "metadata": {},
   "source": [
    "### Извлечение данных о титулах"
   ]
  },
  {
   "cell_type": "code",
   "execution_count": 16,
   "id": "2fc7f9c1",
   "metadata": {},
   "outputs": [
    {
     "name": "stdout",
     "output_type": "stream",
     "text": [
      "+--------+----------+------------------+\n",
      "|   Title|count(Age)|          avg(Age)|\n",
      "+--------+----------+------------------+\n",
      "|     Don|         1|              40.0|\n",
      "|Countess|         1|              33.0|\n",
      "|    Lady|         1|              48.0|\n",
      "|     Mme|         1|              24.0|\n",
      "|    Capt|         1|              70.0|\n",
      "|     Sir|         1|              49.0|\n",
      "|Jonkheer|         1|              38.0|\n",
      "|      Ms|         1|              28.0|\n",
      "|     Col|         2|              58.0|\n",
      "|    Mlle|         2|              24.0|\n",
      "|   Major|         2|              48.5|\n",
      "|     Rev|         6|43.166666666666664|\n",
      "|      Dr|         6|              42.0|\n",
      "|  Master|        36| 4.574166666666667|\n",
      "|     Mrs|       108|35.898148148148145|\n",
      "|    Miss|       146|21.773972602739725|\n",
      "|      Mr|       398|32.368090452261306|\n",
      "+--------+----------+------------------+\n",
      "\n"
     ]
    }
   ],
   "source": [
    "df = df.withColumn('Title', regexp_extract(df['Name'], '([A-Za-z]+)\\.', 1))\n",
    "df.groupBy('Title').agg(count('Age'), mean('Age')).sort('count(Age)').show()"
   ]
  },
  {
   "cell_type": "code",
   "execution_count": 17,
   "id": "ac3072d7",
   "metadata": {},
   "outputs": [],
   "source": [
    "title_dic = {'Mr':'Mr', 'Miss':'Miss', 'Mrs':'Mrs', 'Master':'Master', \\\n",
    "             'Mlle': 'Miss', 'Major': 'Mr', 'Col': 'Mr', 'Sir': 'Mr',\\\n",
    "             'Don': 'Mr', 'Mme': 'Miss', 'Jonkheer': 'Mr', 'Lady': 'Mrs',\\\n",
    "             'Capt': 'Mr', 'Countess': 'Mrs', 'Ms': 'Miss', 'Dona': 'Mrs', \\\n",
    "             'Dr':'Mr', 'Rev':'Mr'}"
   ]
  },
  {
   "cell_type": "code",
   "execution_count": 18,
   "id": "dff02e0e",
   "metadata": {},
   "outputs": [
    {
     "name": "stdout",
     "output_type": "stream",
     "text": [
      "+------+------------------+\n",
      "| Title|          avg(Age)|\n",
      "+------+------------------+\n",
      "|  Miss|             21.86|\n",
      "|Master| 4.574166666666667|\n",
      "|    Mr| 33.02272727272727|\n",
      "|   Mrs|35.981818181818184|\n",
      "+------+------------------+\n",
      "\n"
     ]
    }
   ],
   "source": [
    "mapping = create_map([lit(x) for x in chain(*title_dic.items())])\n",
    "\n",
    "df = df.withColumn('Title', mapping[df['Title']])\n",
    "df.groupBy('Title').mean('Age').show()"
   ]
  },
  {
   "cell_type": "markdown",
   "id": "20be982c",
   "metadata": {},
   "source": [
    "### Извлечение сведений по ворзрасту"
   ]
  },
  {
   "cell_type": "code",
   "execution_count": 19,
   "id": "63a0e7bc",
   "metadata": {},
   "outputs": [],
   "source": [
    "def age_imputer(df, title, age):\n",
    "    return df.withColumn('Age', when((df['Age'].isNull()) & (df['Title'] == title), age).otherwise(df['Age']))"
   ]
  },
  {
   "cell_type": "code",
   "execution_count": 20,
   "id": "28d5fb94",
   "metadata": {},
   "outputs": [],
   "source": [
    "df = age_imputer(df, 'Mr', 33.02)\n",
    "df = age_imputer(df, 'Mrs', 35.98)\n",
    "df = age_imputer(df, 'Miss', 21.86)\n",
    "df = age_imputer(df, 'Master', 4.57)"
   ]
  },
  {
   "cell_type": "markdown",
   "id": "92bdd244",
   "metadata": {},
   "source": [
    "### Добавление агрегирующих данных и удаление неиспользуемых"
   ]
  },
  {
   "cell_type": "code",
   "execution_count": 21,
   "id": "0ec40cf1",
   "metadata": {},
   "outputs": [],
   "source": [
    "df = df.withColumn('FamilySize', df['Parch'] + df['SibSp']).drop('Parch', 'SibSp')\n",
    "df = df.drop('PassengerId', 'Cabin', 'Name', 'Ticket', 'Title')"
   ]
  },
  {
   "cell_type": "code",
   "execution_count": 22,
   "id": "16dbaaae",
   "metadata": {},
   "outputs": [
    {
     "name": "stdout",
     "output_type": "stream",
     "text": [
      "+--------+------+------+----+-------+--------+----------+\n",
      "|Survived|Pclass|   Sex| Age|   Fare|Embarked|FamilySize|\n",
      "+--------+------+------+----+-------+--------+----------+\n",
      "|       0|     3|  male|22.0|   7.25|       S|         1|\n",
      "|       1|     1|female|38.0|71.2833|       C|         1|\n",
      "|       1|     3|female|26.0|  7.925|       S|         0|\n",
      "+--------+------+------+----+-------+--------+----------+\n",
      "only showing top 3 rows\n"
     ]
    }
   ],
   "source": [
    "df.show(3)"
   ]
  },
  {
   "cell_type": "code",
   "execution_count": 23,
   "id": "5fbdb18b",
   "metadata": {},
   "outputs": [],
   "source": [
    "df = df.fillna({'Embarked' : 'S'})"
   ]
  },
  {
   "cell_type": "code",
   "execution_count": 24,
   "id": "19b3f733",
   "metadata": {},
   "outputs": [
    {
     "name": "stdout",
     "output_type": "stream",
     "text": [
      "Survived             0\n",
      "Pclass               0\n",
      "Sex                  0\n",
      "Age                  0\n",
      "Fare                 0\n",
      "Embarked             0\n",
      "FamilySize           0\n"
     ]
    }
   ],
   "source": [
    "for col in df.columns:\n",
    "    print(col.ljust(20), df.filter(df[col].isNull()).count())"
   ]
  },
  {
   "cell_type": "markdown",
   "id": "ab6bdac0",
   "metadata": {},
   "source": [
    "### Построение модели (Spark ML)\n",
    "\n",
    "- Stringindexer: преобразование строковых категорий в численные\n",
    "- Векторный Ассемблер: Spark API\n",
    "- Логистическая регрессия, Случайный лес, GBT\n",
    "- Конвейер"
   ]
  },
  {
   "cell_type": "markdown",
   "id": "dcec1742",
   "metadata": {},
   "source": [
    "### Подключение библиотек из Spark ML"
   ]
  },
  {
   "cell_type": "code",
   "execution_count": 25,
   "id": "01dece6c",
   "metadata": {},
   "outputs": [],
   "source": [
    "from pyspark.ml.feature import StringIndexer, VectorAssembler\n",
    "from pyspark.ml.classification import LogisticRegression, RandomForestClassifier, GBTClassifier\n",
    "from pyspark.ml.evaluation import MulticlassClassificationEvaluator\n",
    "from pyspark.ml import Pipeline\n",
    "from pyspark.ml.tuning import CrossValidator, ParamGridBuilder"
   ]
  },
  {
   "cell_type": "markdown",
   "id": "6932de5f",
   "metadata": {},
   "source": [
    "### String Indexer"
   ]
  },
  {
   "cell_type": "code",
   "execution_count": 26,
   "id": "88a7a62d",
   "metadata": {},
   "outputs": [
    {
     "name": "stdout",
     "output_type": "stream",
     "text": [
      "+--------+------+----+-------+----------+------+-----------+\n",
      "|Survived|Pclass| Age|   Fare|FamilySize|SexNum|EmbarkedNum|\n",
      "+--------+------+----+-------+----------+------+-----------+\n",
      "|       0|     3|22.0|   7.25|         1|   0.0|        0.0|\n",
      "|       1|     1|38.0|71.2833|         1|   1.0|        1.0|\n",
      "|       1|     3|26.0|  7.925|         0|   1.0|        0.0|\n",
      "+--------+------+----+-------+----------+------+-----------+\n",
      "only showing top 3 rows\n"
     ]
    }
   ],
   "source": [
    "stringIndexer = StringIndexer(inputCols=['Sex', 'Embarked'], outputCols=['SexNum', 'EmbarkedNum'])\n",
    "stringIndexer_model =stringIndexer.fit(df)\n",
    "df_ = stringIndexer_model.transform(df).drop('Sex', 'Embarked')\n",
    "df_.show(3)"
   ]
  },
  {
   "cell_type": "markdown",
   "id": "16cc4d14",
   "metadata": {},
   "source": [
    "### Векторный ассемблер"
   ]
  },
  {
   "cell_type": "code",
   "execution_count": 27,
   "id": "f59b2eb9",
   "metadata": {},
   "outputs": [
    {
     "name": "stdout",
     "output_type": "stream",
     "text": [
      "+------------------------------+--------+\n",
      "|features                      |Survived|\n",
      "+------------------------------+--------+\n",
      "|[3.0,22.0,7.25,1.0,0.0,0.0]   |0       |\n",
      "|[1.0,38.0,71.2833,1.0,1.0,1.0]|1       |\n",
      "|[3.0,26.0,7.925,0.0,1.0,0.0]  |1       |\n",
      "+------------------------------+--------+\n",
      "only showing top 3 rows\n"
     ]
    }
   ],
   "source": [
    "vec_asmbl = VectorAssembler(inputCols=df_.columns[1:], outputCol='features')\n",
    "df_ = vec_asmbl.transform(df_).select('features', 'Survived')\n",
    "df_.show(3, truncate=False)"
   ]
  },
  {
   "cell_type": "markdown",
   "id": "3214d560",
   "metadata": {},
   "source": [
    "### Разбивка данных"
   ]
  },
  {
   "cell_type": "code",
   "execution_count": 32,
   "id": "cf520c9a",
   "metadata": {},
   "outputs": [
    {
     "name": "stdout",
     "output_type": "stream",
     "text": [
      "+--------------------+--------+\n",
      "|features            |Survived|\n",
      "+--------------------+--------+\n",
      "|(6,[0,1],[1.0,38.0])|0       |\n",
      "|(6,[0,1],[1.0,39.0])|0       |\n",
      "|(6,[0,1],[1.0,40.0])|0       |\n",
      "+--------------------+--------+\n",
      "only showing top 3 rows\n"
     ]
    }
   ],
   "source": [
    "train_df, test_df = df_.randomSplit([0.7, 0.3])\n",
    "train_df.show(3, truncate=False)"
   ]
  },
  {
   "cell_type": "markdown",
   "id": "1f1de4cf",
   "metadata": {},
   "source": [
    "### Вычисления и метрики"
   ]
  },
  {
   "cell_type": "code",
   "execution_count": 33,
   "id": "f83ff507",
   "metadata": {},
   "outputs": [],
   "source": [
    "evalutor = MulticlassClassificationEvaluator(labelCol='Survived', metricName='accuracy')\n"
   ]
  },
  {
   "cell_type": "markdown",
   "id": "935181c8",
   "metadata": {},
   "source": [
    "### Логистическая регрессия"
   ]
  },
  {
   "cell_type": "code",
   "execution_count": 34,
   "id": "e3a795a0",
   "metadata": {},
   "outputs": [
    {
     "name": "stderr",
     "output_type": "stream",
     "text": [
      "25/10/23 16:23:38 WARN InstanceBuilder: Failed to load implementation from:dev.ludovic.netlib.blas.JNIBLAS\n"
     ]
    },
    {
     "data": {
      "text/plain": [
       "0.7785977859778598"
      ]
     },
     "execution_count": 34,
     "metadata": {},
     "output_type": "execute_result"
    }
   ],
   "source": [
    "ridge = LogisticRegression(labelCol='Survived', maxIter=100, elasticNetParam=0, regParam=0.3)\n",
    "\n",
    "model = ridge.fit(train_df)\n",
    "pred = model.transform(test_df)\n",
    "evalutor.evaluate(pred)"
   ]
  },
  {
   "cell_type": "markdown",
   "id": "29c4bfb4",
   "metadata": {},
   "source": [
    "### Случайный лес"
   ]
  },
  {
   "cell_type": "code",
   "execution_count": 49,
   "id": "5fb48a58",
   "metadata": {},
   "outputs": [
    {
     "data": {
      "text/plain": [
       "0.8191881918819188"
      ]
     },
     "execution_count": 49,
     "metadata": {},
     "output_type": "execute_result"
    }
   ],
   "source": [
    "rf = RandomForestClassifier(labelCol='Survived', numTrees=100, maxDepth=3)\n",
    "\n",
    "model = rf.fit(train_df)\n",
    "pred = model.transform(test_df)\n",
    "evalutor.evaluate(pred)"
   ]
  },
  {
   "cell_type": "markdown",
   "id": "00ed93f3",
   "metadata": {},
   "source": [
    "### GBT"
   ]
  },
  {
   "cell_type": "code",
   "execution_count": 42,
   "id": "146bfce2",
   "metadata": {},
   "outputs": [
    {
     "data": {
      "text/plain": [
       "0.8154981549815498"
      ]
     },
     "execution_count": 42,
     "metadata": {},
     "output_type": "execute_result"
    }
   ],
   "source": [
    "gb = GBTClassifier(labelCol='Survived', maxIter=100, maxDepth=3)\n",
    "\n",
    "model = gb.fit(train_df)\n",
    "pred = model.transform(test_df)\n",
    "evalutor.evaluate(pred)"
   ]
  },
  {
   "cell_type": "markdown",
   "id": "dcc06da1",
   "metadata": {},
   "source": [
    "### Grid-search CV"
   ]
  },
  {
   "cell_type": "code",
   "execution_count": 43,
   "id": "bf0f6f61",
   "metadata": {},
   "outputs": [
    {
     "name": "stdout",
     "output_type": "stream",
     "text": [
      "+--------+------+------+-----+-------+--------+----------+\n",
      "|Survived|Pclass|   Sex|  Age|   Fare|Embarked|FamilySize|\n",
      "+--------+------+------+-----+-------+--------+----------+\n",
      "|       0|     3|  male| 22.0|   7.25|       S|         1|\n",
      "|       1|     1|female| 38.0|71.2833|       C|         1|\n",
      "|       1|     3|female| 26.0|  7.925|       S|         0|\n",
      "|       1|     1|female| 35.0|   53.1|       S|         1|\n",
      "|       0|     3|  male| 35.0|   8.05|       S|         0|\n",
      "|       0|     3|  male|33.02| 8.4583|       Q|         0|\n",
      "|       0|     1|  male| 54.0|51.8625|       S|         0|\n",
      "|       0|     3|  male|  2.0| 21.075|       S|         4|\n",
      "|       1|     3|female| 27.0|11.1333|       S|         2|\n",
      "|       1|     2|female| 14.0|30.0708|       C|         1|\n",
      "|       1|     3|female|  4.0|   16.7|       S|         2|\n",
      "|       1|     1|female| 58.0|  26.55|       S|         0|\n",
      "|       0|     3|  male| 20.0|   8.05|       S|         0|\n",
      "|       0|     3|  male| 39.0| 31.275|       S|         6|\n",
      "|       0|     3|female| 14.0| 7.8542|       S|         0|\n",
      "|       1|     2|female| 55.0|   16.0|       S|         0|\n",
      "|       0|     3|  male|  2.0| 29.125|       Q|         5|\n",
      "|       1|     2|  male|33.02|   13.0|       S|         0|\n",
      "|       0|     3|female| 31.0|   18.0|       S|         1|\n",
      "|       1|     3|female|35.98|  7.225|       C|         0|\n",
      "+--------+------+------+-----+-------+--------+----------+\n",
      "only showing top 20 rows\n"
     ]
    }
   ],
   "source": [
    "df.show()"
   ]
  },
  {
   "cell_type": "code",
   "execution_count": 51,
   "id": "62727744",
   "metadata": {},
   "outputs": [
    {
     "name": "stderr",
     "output_type": "stream",
     "text": [
      "25/10/23 17:13:40 WARN CacheManager: Asked to cache already cached data.\n",
      "25/10/23 17:13:40 WARN CacheManager: Asked to cache already cached data.\n",
      "25/10/23 17:13:41 ERROR RetryingBlockTransferor: Exception while beginning fetch of 1 outstanding blocks (after 1 retries)\n",
      "java.io.IOException: Failed to connect to mac/<unresolved>:50677\n",
      "\tat org.apache.spark.network.client.TransportClientFactory.createClient(TransportClientFactory.java:305)\n",
      "\tat org.apache.spark.network.client.TransportClientFactory.createClient(TransportClientFactory.java:225)\n",
      "\tat org.apache.spark.network.netty.NettyBlockTransferService$$anon$2.createAndStart(NettyBlockTransferService.scala:137)\n",
      "\tat org.apache.spark.network.shuffle.RetryingBlockTransferor.transferAllOutstanding(RetryingBlockTransferor.java:181)\n",
      "\tat org.apache.spark.network.shuffle.RetryingBlockTransferor.lambda$initiateRetry$0(RetryingBlockTransferor.java:228)\n",
      "\tat java.base/java.util.concurrent.ThreadPoolExecutor.runWorker(ThreadPoolExecutor.java:1136)\n",
      "\tat java.base/java.util.concurrent.ThreadPoolExecutor$Worker.run(ThreadPoolExecutor.java:635)\n",
      "\tat io.netty.util.concurrent.FastThreadLocalRunnable.run(FastThreadLocalRunnable.java:30)\n",
      "\tat java.base/java.lang.Thread.run(Thread.java:840)\n",
      "Caused by: java.net.UnknownHostException: mac\n",
      "\tat java.base/java.net.InetAddress$CachedAddresses.get(InetAddress.java:801)\n",
      "\tat java.base/java.net.InetAddress.getAllByName0(InetAddress.java:1533)\n",
      "\tat java.base/java.net.InetAddress.getAllByName(InetAddress.java:1385)\n",
      "\tat java.base/java.net.InetAddress.getAllByName(InetAddress.java:1306)\n",
      "\tat java.base/java.net.InetAddress.getByName(InetAddress.java:1256)\n",
      "\tat io.netty.util.internal.SocketUtils$8.run(SocketUtils.java:156)\n",
      "\tat io.netty.util.internal.SocketUtils$8.run(SocketUtils.java:153)\n",
      "\tat java.base/java.security.AccessController.doPrivileged(AccessController.java:569)\n",
      "\tat io.netty.util.internal.SocketUtils.addressByName(SocketUtils.java:153)\n",
      "\tat io.netty.resolver.DefaultNameResolver.doResolve(DefaultNameResolver.java:41)\n",
      "\tat io.netty.resolver.SimpleNameResolver.resolve(SimpleNameResolver.java:61)\n",
      "\tat io.netty.resolver.SimpleNameResolver.resolve(SimpleNameResolver.java:53)\n",
      "\tat io.netty.resolver.InetSocketAddressResolver.doResolve(InetSocketAddressResolver.java:55)\n",
      "\tat io.netty.resolver.InetSocketAddressResolver.doResolve(InetSocketAddressResolver.java:31)\n",
      "\tat io.netty.resolver.AbstractAddressResolver.resolve(AbstractAddressResolver.java:106)\n",
      "\tat io.netty.bootstrap.Bootstrap.doResolveAndConnect0(Bootstrap.java:220)\n",
      "\tat io.netty.bootstrap.Bootstrap.access$000(Bootstrap.java:47)\n",
      "\tat io.netty.bootstrap.Bootstrap$1.operationComplete(Bootstrap.java:189)\n",
      "\tat io.netty.bootstrap.Bootstrap$1.operationComplete(Bootstrap.java:175)\n",
      "\tat io.netty.util.concurrent.DefaultPromise.notifyListener0(DefaultPromise.java:590)\n",
      "\tat io.netty.util.concurrent.DefaultPromise.notifyListenersNow(DefaultPromise.java:557)\n",
      "\tat io.netty.util.concurrent.DefaultPromise.notifyListeners(DefaultPromise.java:492)\n",
      "\tat io.netty.util.concurrent.DefaultPromise.setValue0(DefaultPromise.java:636)\n",
      "\tat io.netty.util.concurrent.DefaultPromise.setSuccess0(DefaultPromise.java:625)\n",
      "\tat io.netty.util.concurrent.DefaultPromise.trySuccess(DefaultPromise.java:105)\n",
      "\tat io.netty.channel.DefaultChannelPromise.trySuccess(DefaultChannelPromise.java:84)\n",
      "\tat io.netty.channel.AbstractChannel$AbstractUnsafe.safeSetSuccess(AbstractChannel.java:988)\n",
      "\tat io.netty.channel.AbstractChannel$AbstractUnsafe.register0(AbstractChannel.java:515)\n",
      "\tat io.netty.channel.AbstractChannel$AbstractUnsafe.access$200(AbstractChannel.java:428)\n",
      "\tat io.netty.channel.AbstractChannel$AbstractUnsafe$1.run(AbstractChannel.java:485)\n",
      "\tat io.netty.util.concurrent.AbstractEventExecutor.runTask(AbstractEventExecutor.java:173)\n",
      "\tat io.netty.util.concurrent.AbstractEventExecutor.safeExecute(AbstractEventExecutor.java:166)\n",
      "\tat io.netty.util.concurrent.SingleThreadEventExecutor.runAllTasks(SingleThreadEventExecutor.java:472)\n",
      "\tat io.netty.channel.nio.NioEventLoop.run(NioEventLoop.java:569)\n",
      "\tat io.netty.util.concurrent.SingleThreadEventExecutor$4.run(SingleThreadEventExecutor.java:998)\n",
      "\tat io.netty.util.internal.ThreadExecutorMap$2.run(ThreadExecutorMap.java:74)\n",
      "\t... 2 more\n",
      "25/10/23 17:13:44 WARN DAGScheduler: Broadcasting large task binary with size 1376.9 KiB\n",
      "25/10/23 17:13:46 ERROR RetryingBlockTransferor: Exception while beginning fetch of 1 outstanding blocks (after 2 retries)\n",
      "java.io.IOException: Failed to connect to mac/<unresolved>:50677\n",
      "\tat org.apache.spark.network.client.TransportClientFactory.createClient(TransportClientFactory.java:305)\n",
      "\tat org.apache.spark.network.client.TransportClientFactory.createClient(TransportClientFactory.java:225)\n",
      "\tat org.apache.spark.network.netty.NettyBlockTransferService$$anon$2.createAndStart(NettyBlockTransferService.scala:137)\n",
      "\tat org.apache.spark.network.shuffle.RetryingBlockTransferor.transferAllOutstanding(RetryingBlockTransferor.java:181)\n",
      "\tat org.apache.spark.network.shuffle.RetryingBlockTransferor.lambda$initiateRetry$0(RetryingBlockTransferor.java:228)\n",
      "\tat java.base/java.util.concurrent.ThreadPoolExecutor.runWorker(ThreadPoolExecutor.java:1136)\n",
      "\tat java.base/java.util.concurrent.ThreadPoolExecutor$Worker.run(ThreadPoolExecutor.java:635)\n",
      "\tat io.netty.util.concurrent.FastThreadLocalRunnable.run(FastThreadLocalRunnable.java:30)\n",
      "\tat java.base/java.lang.Thread.run(Thread.java:840)\n",
      "Caused by: java.net.UnknownHostException: mac\n",
      "\tat java.base/java.net.InetAddress$CachedAddresses.get(InetAddress.java:801)\n",
      "\tat java.base/java.net.InetAddress.getAllByName0(InetAddress.java:1533)\n",
      "\tat java.base/java.net.InetAddress.getAllByName(InetAddress.java:1385)\n",
      "\tat java.base/java.net.InetAddress.getAllByName(InetAddress.java:1306)\n",
      "\tat java.base/java.net.InetAddress.getByName(InetAddress.java:1256)\n",
      "\tat io.netty.util.internal.SocketUtils$8.run(SocketUtils.java:156)\n",
      "\tat io.netty.util.internal.SocketUtils$8.run(SocketUtils.java:153)\n",
      "\tat java.base/java.security.AccessController.doPrivileged(AccessController.java:569)\n",
      "\tat io.netty.util.internal.SocketUtils.addressByName(SocketUtils.java:153)\n",
      "\tat io.netty.resolver.DefaultNameResolver.doResolve(DefaultNameResolver.java:41)\n",
      "\tat io.netty.resolver.SimpleNameResolver.resolve(SimpleNameResolver.java:61)\n",
      "\tat io.netty.resolver.SimpleNameResolver.resolve(SimpleNameResolver.java:53)\n",
      "\tat io.netty.resolver.InetSocketAddressResolver.doResolve(InetSocketAddressResolver.java:55)\n",
      "\tat io.netty.resolver.InetSocketAddressResolver.doResolve(InetSocketAddressResolver.java:31)\n",
      "\tat io.netty.resolver.AbstractAddressResolver.resolve(AbstractAddressResolver.java:106)\n",
      "\tat io.netty.bootstrap.Bootstrap.doResolveAndConnect0(Bootstrap.java:220)\n",
      "\tat io.netty.bootstrap.Bootstrap.access$000(Bootstrap.java:47)\n",
      "\tat io.netty.bootstrap.Bootstrap$1.operationComplete(Bootstrap.java:189)\n",
      "\tat io.netty.bootstrap.Bootstrap$1.operationComplete(Bootstrap.java:175)\n",
      "\tat io.netty.util.concurrent.DefaultPromise.notifyListener0(DefaultPromise.java:590)\n",
      "\tat io.netty.util.concurrent.DefaultPromise.notifyListenersNow(DefaultPromise.java:557)\n",
      "\tat io.netty.util.concurrent.DefaultPromise.notifyListeners(DefaultPromise.java:492)\n",
      "\tat io.netty.util.concurrent.DefaultPromise.setValue0(DefaultPromise.java:636)\n",
      "\tat io.netty.util.concurrent.DefaultPromise.setSuccess0(DefaultPromise.java:625)\n",
      "\tat io.netty.util.concurrent.DefaultPromise.trySuccess(DefaultPromise.java:105)\n",
      "\tat io.netty.channel.DefaultChannelPromise.trySuccess(DefaultChannelPromise.java:84)\n",
      "\tat io.netty.channel.AbstractChannel$AbstractUnsafe.safeSetSuccess(AbstractChannel.java:988)\n",
      "\tat io.netty.channel.AbstractChannel$AbstractUnsafe.register0(AbstractChannel.java:515)\n",
      "\tat io.netty.channel.AbstractChannel$AbstractUnsafe.access$200(AbstractChannel.java:428)\n",
      "\tat io.netty.channel.AbstractChannel$AbstractUnsafe$1.run(AbstractChannel.java:485)\n",
      "\tat io.netty.util.concurrent.AbstractEventExecutor.runTask(AbstractEventExecutor.java:173)\n",
      "\tat io.netty.util.concurrent.AbstractEventExecutor.safeExecute(AbstractEventExecutor.java:166)\n",
      "\tat io.netty.util.concurrent.SingleThreadEventExecutor.runAllTasks(SingleThreadEventExecutor.java:472)\n",
      "\tat io.netty.channel.nio.NioEventLoop.run(NioEventLoop.java:569)\n",
      "\tat io.netty.util.concurrent.SingleThreadEventExecutor$4.run(SingleThreadEventExecutor.java:998)\n",
      "\tat io.netty.util.internal.ThreadExecutorMap$2.run(ThreadExecutorMap.java:74)\n",
      "\t... 2 more\n",
      "25/10/23 17:13:47 WARN DAGScheduler: Broadcasting large task binary with size 1376.7 KiB\n",
      "25/10/23 17:13:50 WARN DAGScheduler: Broadcasting large task binary with size 1267.8 KiB\n",
      "25/10/23 17:13:51 ERROR RetryingBlockTransferor: Exception while beginning fetch of 1 outstanding blocks (after 3 retries)\n",
      "java.io.IOException: Failed to connect to mac/<unresolved>:50677\n",
      "\tat org.apache.spark.network.client.TransportClientFactory.createClient(TransportClientFactory.java:305)\n",
      "\tat org.apache.spark.network.client.TransportClientFactory.createClient(TransportClientFactory.java:225)\n",
      "\tat org.apache.spark.network.netty.NettyBlockTransferService$$anon$2.createAndStart(NettyBlockTransferService.scala:137)\n",
      "\tat org.apache.spark.network.shuffle.RetryingBlockTransferor.transferAllOutstanding(RetryingBlockTransferor.java:181)\n",
      "\tat org.apache.spark.network.shuffle.RetryingBlockTransferor.lambda$initiateRetry$0(RetryingBlockTransferor.java:228)\n",
      "\tat java.base/java.util.concurrent.ThreadPoolExecutor.runWorker(ThreadPoolExecutor.java:1136)\n",
      "\tat java.base/java.util.concurrent.ThreadPoolExecutor$Worker.run(ThreadPoolExecutor.java:635)\n",
      "\tat io.netty.util.concurrent.FastThreadLocalRunnable.run(FastThreadLocalRunnable.java:30)\n",
      "\tat java.base/java.lang.Thread.run(Thread.java:840)\n",
      "Caused by: java.net.UnknownHostException: mac\n",
      "\tat java.base/java.net.InetAddress$CachedAddresses.get(InetAddress.java:801)\n",
      "\tat java.base/java.net.InetAddress.getAllByName0(InetAddress.java:1533)\n",
      "\tat java.base/java.net.InetAddress.getAllByName(InetAddress.java:1385)\n",
      "\tat java.base/java.net.InetAddress.getAllByName(InetAddress.java:1306)\n",
      "\tat java.base/java.net.InetAddress.getByName(InetAddress.java:1256)\n",
      "\tat io.netty.util.internal.SocketUtils$8.run(SocketUtils.java:156)\n",
      "\tat io.netty.util.internal.SocketUtils$8.run(SocketUtils.java:153)\n",
      "\tat java.base/java.security.AccessController.doPrivileged(AccessController.java:569)\n",
      "\tat io.netty.util.internal.SocketUtils.addressByName(SocketUtils.java:153)\n",
      "\tat io.netty.resolver.DefaultNameResolver.doResolve(DefaultNameResolver.java:41)\n",
      "\tat io.netty.resolver.SimpleNameResolver.resolve(SimpleNameResolver.java:61)\n",
      "\tat io.netty.resolver.SimpleNameResolver.resolve(SimpleNameResolver.java:53)\n",
      "\tat io.netty.resolver.InetSocketAddressResolver.doResolve(InetSocketAddressResolver.java:55)\n",
      "\tat io.netty.resolver.InetSocketAddressResolver.doResolve(InetSocketAddressResolver.java:31)\n",
      "\tat io.netty.resolver.AbstractAddressResolver.resolve(AbstractAddressResolver.java:106)\n",
      "\tat io.netty.bootstrap.Bootstrap.doResolveAndConnect0(Bootstrap.java:220)\n",
      "\tat io.netty.bootstrap.Bootstrap.access$000(Bootstrap.java:47)\n",
      "\tat io.netty.bootstrap.Bootstrap$1.operationComplete(Bootstrap.java:189)\n",
      "\tat io.netty.bootstrap.Bootstrap$1.operationComplete(Bootstrap.java:175)\n",
      "\tat io.netty.util.concurrent.DefaultPromise.notifyListener0(DefaultPromise.java:590)\n",
      "\tat io.netty.util.concurrent.DefaultPromise.notifyListenersNow(DefaultPromise.java:557)\n",
      "\tat io.netty.util.concurrent.DefaultPromise.notifyListeners(DefaultPromise.java:492)\n",
      "\tat io.netty.util.concurrent.DefaultPromise.setValue0(DefaultPromise.java:636)\n",
      "\tat io.netty.util.concurrent.DefaultPromise.setSuccess0(DefaultPromise.java:625)\n",
      "\tat io.netty.util.concurrent.DefaultPromise.trySuccess(DefaultPromise.java:105)\n",
      "\tat io.netty.channel.DefaultChannelPromise.trySuccess(DefaultChannelPromise.java:84)\n",
      "\tat io.netty.channel.AbstractChannel$AbstractUnsafe.safeSetSuccess(AbstractChannel.java:988)\n",
      "\tat io.netty.channel.AbstractChannel$AbstractUnsafe.register0(AbstractChannel.java:515)\n",
      "\tat io.netty.channel.AbstractChannel$AbstractUnsafe.access$200(AbstractChannel.java:428)\n",
      "\tat io.netty.channel.AbstractChannel$AbstractUnsafe$1.run(AbstractChannel.java:485)\n",
      "\tat io.netty.util.concurrent.AbstractEventExecutor.runTask(AbstractEventExecutor.java:173)\n",
      "\tat io.netty.util.concurrent.AbstractEventExecutor.safeExecute(AbstractEventExecutor.java:166)\n",
      "\tat io.netty.util.concurrent.SingleThreadEventExecutor.runAllTasks(SingleThreadEventExecutor.java:472)\n",
      "\tat io.netty.channel.nio.NioEventLoop.run(NioEventLoop.java:569)\n",
      "\tat io.netty.util.concurrent.SingleThreadEventExecutor$4.run(SingleThreadEventExecutor.java:998)\n",
      "\tat io.netty.util.internal.ThreadExecutorMap$2.run(ThreadExecutorMap.java:74)\n",
      "\t... 2 more\n",
      "25/10/23 17:13:51 WARN BlockManager: Failed to fetch remote block taskresult_7803 from [BlockManagerId(driver, mac, 50677, None)] after 1 fetch failures. Most recent failure cause:\n",
      "org.apache.spark.SparkException: Exception thrown in awaitResult: \n",
      "\tat org.apache.spark.util.SparkThreadUtils$.awaitResult(SparkThreadUtils.scala:53)\n",
      "\tat org.apache.spark.util.ThreadUtils$.awaitResult(ThreadUtils.scala:342)\n",
      "\tat org.apache.spark.network.BlockTransferService.fetchBlockSync(BlockTransferService.scala:103)\n",
      "\tat org.apache.spark.storage.BlockManager.fetchRemoteManagedBuffer(BlockManager.scala:1203)\n",
      "\tat org.apache.spark.storage.BlockManager.$anonfun$getRemoteBlock$8(BlockManager.scala:1147)\n",
      "\tat scala.Option.orElse(Option.scala:477)\n",
      "\tat org.apache.spark.storage.BlockManager.getRemoteBlock(BlockManager.scala:1147)\n",
      "\tat org.apache.spark.storage.BlockManager.getRemoteBytes(BlockManager.scala:1290)\n",
      "\tat org.apache.spark.scheduler.TaskResultGetter$$anon$3.$anonfun$run$1(TaskResultGetter.scala:89)\n",
      "\tat scala.runtime.java8.JFunction0$mcV$sp.apply(JFunction0$mcV$sp.scala:18)\n",
      "\tat org.apache.spark.util.Utils$.logUncaughtExceptions(Utils.scala:1937)\n",
      "\tat org.apache.spark.scheduler.TaskResultGetter$$anon$3.run(TaskResultGetter.scala:64)\n",
      "\tat java.base/java.util.concurrent.ThreadPoolExecutor.runWorker(ThreadPoolExecutor.java:1136)\n",
      "\tat java.base/java.util.concurrent.ThreadPoolExecutor$Worker.run(ThreadPoolExecutor.java:635)\n",
      "\tat java.base/java.lang.Thread.run(Thread.java:840)\n",
      "Caused by: java.io.IOException: Failed to connect to mac/<unresolved>:50677\n",
      "\tat org.apache.spark.network.client.TransportClientFactory.createClient(TransportClientFactory.java:305)\n",
      "\tat org.apache.spark.network.client.TransportClientFactory.createClient(TransportClientFactory.java:225)\n",
      "\tat org.apache.spark.network.netty.NettyBlockTransferService$$anon$2.createAndStart(NettyBlockTransferService.scala:137)\n",
      "\tat org.apache.spark.network.shuffle.RetryingBlockTransferor.transferAllOutstanding(RetryingBlockTransferor.java:181)\n",
      "\tat org.apache.spark.network.shuffle.RetryingBlockTransferor.lambda$initiateRetry$0(RetryingBlockTransferor.java:228)\n",
      "\tat java.base/java.util.concurrent.ThreadPoolExecutor.runWorker(ThreadPoolExecutor.java:1136)\n",
      "\tat java.base/java.util.concurrent.ThreadPoolExecutor$Worker.run(ThreadPoolExecutor.java:635)\n",
      "\tat io.netty.util.concurrent.FastThreadLocalRunnable.run(FastThreadLocalRunnable.java:30)\n",
      "\t... 1 more\n",
      "Caused by: java.net.UnknownHostException: mac\n",
      "\tat java.base/java.net.InetAddress$CachedAddresses.get(InetAddress.java:801)\n",
      "\tat java.base/java.net.InetAddress.getAllByName0(InetAddress.java:1533)\n",
      "\tat java.base/java.net.InetAddress.getAllByName(InetAddress.java:1385)\n",
      "\tat java.base/java.net.InetAddress.getAllByName(InetAddress.java:1306)\n",
      "\tat java.base/java.net.InetAddress.getByName(InetAddress.java:1256)\n",
      "\tat io.netty.util.internal.SocketUtils$8.run(SocketUtils.java:156)\n",
      "\tat io.netty.util.internal.SocketUtils$8.run(SocketUtils.java:153)\n",
      "\tat java.base/java.security.AccessController.doPrivileged(AccessController.java:569)\n",
      "\tat io.netty.util.internal.SocketUtils.addressByName(SocketUtils.java:153)\n",
      "\tat io.netty.resolver.DefaultNameResolver.doResolve(DefaultNameResolver.java:41)\n",
      "\tat io.netty.resolver.SimpleNameResolver.resolve(SimpleNameResolver.java:61)\n",
      "\tat io.netty.resolver.SimpleNameResolver.resolve(SimpleNameResolver.java:53)\n",
      "\tat io.netty.resolver.InetSocketAddressResolver.doResolve(InetSocketAddressResolver.java:55)\n",
      "\tat io.netty.resolver.InetSocketAddressResolver.doResolve(InetSocketAddressResolver.java:31)\n",
      "\tat io.netty.resolver.AbstractAddressResolver.resolve(AbstractAddressResolver.java:106)\n",
      "\tat io.netty.bootstrap.Bootstrap.doResolveAndConnect0(Bootstrap.java:220)\n",
      "\tat io.netty.bootstrap.Bootstrap.access$000(Bootstrap.java:47)\n",
      "\tat io.netty.bootstrap.Bootstrap$1.operationComplete(Bootstrap.java:189)\n",
      "\tat io.netty.bootstrap.Bootstrap$1.operationComplete(Bootstrap.java:175)\n",
      "\tat io.netty.util.concurrent.DefaultPromise.notifyListener0(DefaultPromise.java:590)\n",
      "\tat io.netty.util.concurrent.DefaultPromise.notifyListenersNow(DefaultPromise.java:557)\n",
      "\tat io.netty.util.concurrent.DefaultPromise.notifyListeners(DefaultPromise.java:492)\n",
      "\tat io.netty.util.concurrent.DefaultPromise.setValue0(DefaultPromise.java:636)\n",
      "\tat io.netty.util.concurrent.DefaultPromise.setSuccess0(DefaultPromise.java:625)\n",
      "\tat io.netty.util.concurrent.DefaultPromise.trySuccess(DefaultPromise.java:105)\n",
      "\tat io.netty.channel.DefaultChannelPromise.trySuccess(DefaultChannelPromise.java:84)\n",
      "\tat io.netty.channel.AbstractChannel$AbstractUnsafe.safeSetSuccess(AbstractChannel.java:988)\n",
      "\tat io.netty.channel.AbstractChannel$AbstractUnsafe.register0(AbstractChannel.java:515)\n",
      "\tat io.netty.channel.AbstractChannel$AbstractUnsafe.access$200(AbstractChannel.java:428)\n",
      "\tat io.netty.channel.AbstractChannel$AbstractUnsafe$1.run(AbstractChannel.java:485)\n",
      "\tat io.netty.util.concurrent.AbstractEventExecutor.runTask(AbstractEventExecutor.java:173)\n",
      "\tat io.netty.util.concurrent.AbstractEventExecutor.safeExecute(AbstractEventExecutor.java:166)\n",
      "\tat io.netty.util.concurrent.SingleThreadEventExecutor.runAllTasks(SingleThreadEventExecutor.java:472)\n",
      "\tat io.netty.channel.nio.NioEventLoop.run(NioEventLoop.java:569)\n",
      "\tat io.netty.util.concurrent.SingleThreadEventExecutor$4.run(SingleThreadEventExecutor.java:998)\n",
      "\tat io.netty.util.internal.ThreadExecutorMap$2.run(ThreadExecutorMap.java:74)\n",
      "\t... 2 more\n",
      "25/10/23 17:13:51 WARN TaskSetManager: Lost task 0.0 in stage 8981.0 (TID 7803) (mac executor driver): TaskResultLost (result lost from block manager)\n",
      "25/10/23 17:13:51 ERROR TaskSetManager: Task 0 in stage 8981.0 failed 1 times; aborting job\n",
      "25/10/23 17:13:51 ERROR Instrumentation: org.apache.spark.SparkException: Job aborted due to stage failure: Task 0 in stage 8981.0 failed 1 times, most recent failure: Lost task 0.0 in stage 8981.0 (TID 7803) (mac executor driver): TaskResultLost (result lost from block manager)\n",
      "Driver stacktrace:\n",
      "\tat org.apache.spark.scheduler.DAGScheduler.$anonfun$abortStage$3(DAGScheduler.scala:2935)\n",
      "\tat scala.Option.getOrElse(Option.scala:201)\n",
      "\tat org.apache.spark.scheduler.DAGScheduler.$anonfun$abortStage$2(DAGScheduler.scala:2935)\n",
      "\tat org.apache.spark.scheduler.DAGScheduler.$anonfun$abortStage$2$adapted(DAGScheduler.scala:2927)\n",
      "\tat scala.collection.immutable.List.foreach(List.scala:334)\n",
      "\tat org.apache.spark.scheduler.DAGScheduler.abortStage(DAGScheduler.scala:2927)\n",
      "\tat org.apache.spark.scheduler.DAGScheduler.$anonfun$handleTaskSetFailed$1(DAGScheduler.scala:1295)\n",
      "\tat org.apache.spark.scheduler.DAGScheduler.$anonfun$handleTaskSetFailed$1$adapted(DAGScheduler.scala:1295)\n",
      "\tat scala.Option.foreach(Option.scala:437)\n",
      "\tat org.apache.spark.scheduler.DAGScheduler.handleTaskSetFailed(DAGScheduler.scala:1295)\n",
      "\tat org.apache.spark.scheduler.DAGSchedulerEventProcessLoop.doOnReceive(DAGScheduler.scala:3207)\n",
      "\tat org.apache.spark.scheduler.DAGSchedulerEventProcessLoop.onReceive(DAGScheduler.scala:3141)\n",
      "\tat org.apache.spark.scheduler.DAGSchedulerEventProcessLoop.onReceive(DAGScheduler.scala:3130)\n",
      "\tat org.apache.spark.util.EventLoop$$anon$1.run(EventLoop.scala:50)\n",
      "\tat org.apache.spark.scheduler.DAGScheduler.runJob(DAGScheduler.scala:1009)\n",
      "\tat org.apache.spark.SparkContext.runJob(SparkContext.scala:2484)\n",
      "\tat org.apache.spark.SparkContext.runJob(SparkContext.scala:2505)\n",
      "\tat org.apache.spark.SparkContext.runJob(SparkContext.scala:2524)\n",
      "\tat org.apache.spark.SparkContext.runJob(SparkContext.scala:2549)\n",
      "\tat org.apache.spark.rdd.RDD.$anonfun$collect$1(RDD.scala:1057)\n",
      "\tat org.apache.spark.rdd.RDDOperationScope$.withScope(RDDOperationScope.scala:151)\n",
      "\tat org.apache.spark.rdd.RDDOperationScope$.withScope(RDDOperationScope.scala:112)\n",
      "\tat org.apache.spark.rdd.RDD.withScope(RDD.scala:417)\n",
      "\tat org.apache.spark.rdd.RDD.collect(RDD.scala:1056)\n",
      "\tat org.apache.spark.rdd.PairRDDFunctions.$anonfun$collectAsMap$1(PairRDDFunctions.scala:740)\n",
      "\tat org.apache.spark.rdd.RDDOperationScope$.withScope(RDDOperationScope.scala:151)\n",
      "\tat org.apache.spark.rdd.RDDOperationScope$.withScope(RDDOperationScope.scala:112)\n",
      "\tat org.apache.spark.rdd.RDD.withScope(RDD.scala:417)\n",
      "\tat org.apache.spark.rdd.PairRDDFunctions.collectAsMap(PairRDDFunctions.scala:739)\n",
      "\tat org.apache.spark.ml.tree.impl.RandomForest$.findBestSplits(RandomForest.scala:665)\n",
      "\tat org.apache.spark.ml.tree.impl.RandomForest$.runBagged(RandomForest.scala:210)\n",
      "\tat org.apache.spark.ml.tree.impl.RandomForest$.run(RandomForest.scala:304)\n",
      "\tat org.apache.spark.ml.classification.RandomForestClassifier.$anonfun$train$1(RandomForestClassifier.scala:168)\n",
      "\tat org.apache.spark.ml.util.Instrumentation$.$anonfun$instrumented$1(Instrumentation.scala:226)\n",
      "\tat scala.util.Try$.apply(Try.scala:217)\n",
      "\tat org.apache.spark.ml.util.Instrumentation$.instrumented(Instrumentation.scala:226)\n",
      "\tat org.apache.spark.ml.classification.RandomForestClassifier.train(RandomForestClassifier.scala:139)\n",
      "\tat org.apache.spark.ml.classification.RandomForestClassifier.train(RandomForestClassifier.scala:47)\n",
      "\tat org.apache.spark.ml.Predictor.fit(Predictor.scala:115)\n",
      "\tat jdk.internal.reflect.GeneratedMethodAccessor337.invoke(Unknown Source)\n",
      "\tat java.base/jdk.internal.reflect.DelegatingMethodAccessorImpl.invoke(DelegatingMethodAccessorImpl.java:43)\n",
      "\tat java.base/java.lang.reflect.Method.invoke(Method.java:569)\n",
      "\tat py4j.reflection.MethodInvoker.invoke(MethodInvoker.java:244)\n",
      "\tat py4j.reflection.ReflectionEngine.invoke(ReflectionEngine.java:374)\n",
      "\tat py4j.Gateway.invoke(Gateway.java:282)\n",
      "\tat py4j.commands.AbstractCommand.invokeMethod(AbstractCommand.java:132)\n",
      "\tat py4j.commands.CallCommand.execute(CallCommand.java:79)\n",
      "\tat py4j.ClientServerConnection.waitForCommands(ClientServerConnection.java:184)\n",
      "\tat py4j.ClientServerConnection.run(ClientServerConnection.java:108)\n",
      "\tat java.base/java.lang.Thread.run(Thread.java:840)\n",
      "\n",
      "25/10/23 17:13:53 WARN DAGScheduler: Broadcasting large task binary with size 1568.1 KiB\n",
      "25/10/23 17:13:55 WARN DAGScheduler: Broadcasting large task binary with size 1493.3 KiB\n",
      "25/10/23 17:13:57 WARN DAGScheduler: Broadcasting large task binary with size 2.0 MiB\n",
      "25/10/23 17:13:57 WARN DAGScheduler: Broadcasting large task binary with size 1061.1 KiB\n",
      "25/10/23 17:13:57 WARN DAGScheduler: Broadcasting large task binary with size 1889.1 KiB\n",
      "25/10/23 17:13:58 WARN DAGScheduler: Broadcasting large task binary with size 2.8 MiB\n",
      "25/10/23 17:13:58 WARN DAGScheduler: Broadcasting large task binary with size 1563.0 KiB\n",
      "25/10/23 17:14:01 WARN DAGScheduler: Broadcasting large task binary with size 4.0 MiB\n",
      "25/10/23 17:14:04 WARN DAGScheduler: Broadcasting large task binary with size 1268.5 KiB\n",
      "25/10/23 17:14:05 WARN DAGScheduler: Broadcasting large task binary with size 1268.5 KiB\n",
      "25/10/23 17:14:08 WARN DAGScheduler: Broadcasting large task binary with size 2.4 MiB\n",
      "25/10/23 17:14:09 WARN DAGScheduler: Broadcasting large task binary with size 1138.6 KiB\n",
      "25/10/23 17:14:11 WARN DAGScheduler: Broadcasting large task binary with size 1867.5 KiB\n",
      "25/10/23 17:14:15 WARN DAGScheduler: Broadcasting large task binary with size 1783.8 KiB\n",
      "25/10/23 17:14:18 WARN DAGScheduler: Broadcasting large task binary with size 1268.5 KiB\n",
      "25/10/23 17:14:20 WARN DAGScheduler: Broadcasting large task binary with size 1138.6 KiB\n",
      "25/10/23 17:14:21 WARN DAGScheduler: Broadcasting large task binary with size 1983.0 KiB\n",
      "25/10/23 17:14:22 WARN DAGScheduler: Broadcasting large task binary with size 2.3 MiB\n",
      "25/10/23 17:14:25 WARN DAGScheduler: Broadcasting large task binary with size 1493.3 KiB\n",
      "25/10/23 17:14:26 WARN DAGScheduler: Broadcasting large task binary with size 2.0 MiB\n",
      "25/10/23 17:14:29 WARN DAGScheduler: Broadcasting large task binary with size 1268.5 KiB\n",
      "25/10/23 17:14:33 WARN DAGScheduler: Broadcasting large task binary with size 1380.3 KiB\n",
      "25/10/23 17:14:36 WARN DAGScheduler: Broadcasting large task binary with size 1380.3 KiB\n",
      "25/10/23 17:14:39 WARN DAGScheduler: Broadcasting large task binary with size 1264.7 KiB\n",
      "25/10/23 17:14:42 WARN DAGScheduler: Broadcasting large task binary with size 1581.8 KiB\n",
      "25/10/23 17:14:46 WARN DAGScheduler: Broadcasting large task binary with size 1570.2 KiB\n",
      "25/10/23 17:14:49 WARN DAGScheduler: Broadcasting large task binary with size 1267.3 KiB\n",
      "25/10/23 17:14:51 WARN DAGScheduler: Broadcasting large task binary with size 1149.2 KiB\n",
      "25/10/23 17:14:53 WARN DAGScheduler: Broadcasting large task binary with size 1897.0 KiB\n",
      "25/10/23 17:14:55 WARN DAGScheduler: Broadcasting large task binary with size 1022.3 KiB\n",
      "25/10/23 17:14:56 WARN DAGScheduler: Broadcasting large task binary with size 1817.1 KiB\n",
      "25/10/23 17:15:00 WARN DAGScheduler: Broadcasting large task binary with size 1267.3 KiB\n",
      "25/10/23 17:15:02 WARN DAGScheduler: Broadcasting large task binary with size 1015.5 KiB\n",
      "25/10/23 17:15:02 WARN DAGScheduler: Broadcasting large task binary with size 1149.2 KiB\n",
      "25/10/23 17:15:02 WARN DAGScheduler: Broadcasting large task binary with size 2022.2 KiB\n",
      "25/10/23 17:15:04 WARN DAGScheduler: Broadcasting large task binary with size 2.3 MiB\n",
      "25/10/23 17:15:06 WARN DAGScheduler: Broadcasting large task binary with size 1022.3 KiB\n",
      "25/10/23 17:15:06 WARN DAGScheduler: Broadcasting large task binary with size 1550.7 KiB\n",
      "25/10/23 17:15:08 WARN DAGScheduler: Broadcasting large task binary with size 2.1 MiB\n",
      "25/10/23 17:15:11 WARN DAGScheduler: Broadcasting large task binary with size 1267.3 KiB\n",
      "25/10/23 17:15:15 WARN DAGScheduler: Broadcasting large task binary with size 1377.0 KiB\n",
      "25/10/23 17:15:18 WARN DAGScheduler: Broadcasting large task binary with size 1376.7 KiB\n",
      "25/10/23 17:15:21 WARN DAGScheduler: Broadcasting large task binary with size 1265.3 KiB\n",
      "25/10/23 17:15:24 WARN DAGScheduler: Broadcasting large task binary with size 1579.0 KiB\n",
      "25/10/23 17:15:27 WARN DAGScheduler: Broadcasting large task binary with size 1565.5 KiB\n",
      "25/10/23 17:15:30 WARN DAGScheduler: Broadcasting large task binary with size 1267.6 KiB\n",
      "25/10/23 17:15:33 WARN DAGScheduler: Broadcasting large task binary with size 1143.6 KiB\n",
      "25/10/23 17:15:34 WARN DAGScheduler: Broadcasting large task binary with size 1876.3 KiB\n",
      "25/10/23 17:15:38 WARN DAGScheduler: Broadcasting large task binary with size 1792.6 KiB\n",
      "25/10/23 17:15:41 WARN DAGScheduler: Broadcasting large task binary with size 1267.8 KiB\n",
      "25/10/23 17:15:43 WARN DAGScheduler: Broadcasting large task binary with size 1009.9 KiB\n",
      "25/10/23 17:15:44 WARN DAGScheduler: Broadcasting large task binary with size 1143.6 KiB\n",
      "25/10/23 17:15:44 WARN DAGScheduler: Broadcasting large task binary with size 2004.7 KiB\n",
      "25/10/23 17:15:45 WARN DAGScheduler: Broadcasting large task binary with size 2.3 MiB\n",
      "25/10/23 17:15:48 WARN DAGScheduler: Broadcasting large task binary with size 1501.9 KiB\n",
      "25/10/23 17:15:49 WARN DAGScheduler: Broadcasting large task binary with size 2.0 MiB\n",
      "25/10/23 17:15:53 WARN DAGScheduler: Broadcasting large task binary with size 1267.8 KiB\n",
      "25/10/23 17:15:56 WARN DAGScheduler: Broadcasting large task binary with size 1371.9 KiB\n",
      "25/10/23 17:15:59 WARN DAGScheduler: Broadcasting large task binary with size 1372.6 KiB\n",
      "25/10/23 17:16:02 WARN DAGScheduler: Broadcasting large task binary with size 1265.7 KiB\n",
      "25/10/23 17:16:06 WARN DAGScheduler: Broadcasting large task binary with size 1570.7 KiB\n",
      "25/10/23 17:16:09 WARN DAGScheduler: Broadcasting large task binary with size 1552.3 KiB\n",
      "25/10/23 17:16:12 WARN DAGScheduler: Broadcasting large task binary with size 1266.9 KiB\n",
      "25/10/23 17:16:15 WARN DAGScheduler: Broadcasting large task binary with size 1151.2 KiB\n",
      "25/10/23 17:16:16 WARN DAGScheduler: Broadcasting large task binary with size 1878.9 KiB\n",
      "25/10/23 17:16:20 WARN DAGScheduler: Broadcasting large task binary with size 1803.0 KiB\n",
      "25/10/23 17:16:23 WARN DAGScheduler: Broadcasting large task binary with size 1266.9 KiB\n",
      "25/10/23 17:16:25 WARN DAGScheduler: Broadcasting large task binary with size 1022.2 KiB\n",
      "25/10/23 17:16:25 WARN DAGScheduler: Broadcasting large task binary with size 1151.2 KiB\n",
      "25/10/23 17:16:26 WARN DAGScheduler: Broadcasting large task binary with size 2037.9 KiB\n",
      "25/10/23 17:16:27 WARN DAGScheduler: Broadcasting large task binary with size 2.3 MiB\n",
      "25/10/23 17:16:30 WARN DAGScheduler: Broadcasting large task binary with size 1527.4 KiB\n",
      "25/10/23 17:16:32 WARN DAGScheduler: Broadcasting large task binary with size 2.1 MiB\n",
      "25/10/23 17:16:36 WARN DAGScheduler: Broadcasting large task binary with size 1266.9 KiB\n",
      "25/10/23 17:16:40 WARN DAGScheduler: Broadcasting large task binary with size 1375.5 KiB\n",
      "25/10/23 17:16:43 WARN DAGScheduler: Broadcasting large task binary with size 1375.3 KiB\n",
      "25/10/23 17:16:46 WARN DAGScheduler: Broadcasting large task binary with size 1262.4 KiB\n",
      "25/10/23 17:16:49 WARN DAGScheduler: Broadcasting large task binary with size 1572.5 KiB\n",
      "25/10/23 17:16:53 WARN DAGScheduler: Broadcasting large task binary with size 1565.7 KiB\n",
      "25/10/23 17:16:56 WARN DAGScheduler: Broadcasting large task binary with size 1264.0 KiB\n",
      "25/10/23 17:16:58 WARN DAGScheduler: Broadcasting large task binary with size 1139.6 KiB\n",
      "25/10/23 17:17:00 WARN DAGScheduler: Broadcasting large task binary with size 1894.9 KiB\n",
      "25/10/23 17:17:02 WARN DAGScheduler: Broadcasting large task binary with size 1005.3 KiB\n",
      "25/10/23 17:17:03 WARN DAGScheduler: Broadcasting large task binary with size 1820.3 KiB\n",
      "25/10/23 17:17:07 WARN DAGScheduler: Broadcasting large task binary with size 1264.0 KiB\n",
      "25/10/23 17:17:08 WARN DAGScheduler: Broadcasting large task binary with size 1014.9 KiB\n",
      "25/10/23 17:17:09 WARN DAGScheduler: Broadcasting large task binary with size 1139.6 KiB\n",
      "25/10/23 17:17:09 WARN DAGScheduler: Broadcasting large task binary with size 1990.7 KiB\n",
      "25/10/23 17:17:11 WARN DAGScheduler: Broadcasting large task binary with size 2.3 MiB\n",
      "25/10/23 17:17:13 WARN DAGScheduler: Broadcasting large task binary with size 1005.3 KiB\n",
      "25/10/23 17:17:13 WARN DAGScheduler: Broadcasting large task binary with size 1531.0 KiB\n",
      "25/10/23 17:17:15 WARN DAGScheduler: Broadcasting large task binary with size 2.1 MiB\n",
      "25/10/23 17:17:18 WARN DAGScheduler: Broadcasting large task binary with size 1264.0 KiB\n",
      "25/10/23 17:17:19 WARN DAGScheduler: Broadcasting large task binary with size 1149.7 KiB\n",
      "25/10/23 17:17:19 WARN DAGScheduler: Broadcasting large task binary with size 2044.9 KiB\n",
      "25/10/23 17:17:21 WARN DAGScheduler: Broadcasting large task binary with size 2.3 MiB\n"
     ]
    },
    {
     "data": {
      "text/plain": [
       "0.8484848484848485"
      ]
     },
     "execution_count": 51,
     "metadata": {},
     "output_type": "execute_result"
    }
   ],
   "source": [
    "pipeline_rf = Pipeline(stages=[stringIndexer, vec_asmbl, rf])\n",
    "paramGrid = ParamGridBuilder().addGrid(rf.maxDepth, [2,3,4,5]).addGrid(rf.minInfoGain, [0.0, 0.01, 0.1]).addGrid(rf.numTrees, [100, 200, 500]).build()\n",
    "\n",
    "select_model = CrossValidator(estimator=pipeline_rf, estimatorParamMaps=paramGrid, evaluator=evalutor, numFolds=5)\n",
    "\n",
    "model_final = select_model.fit(df)\n",
    "pred_train = model_final.transform(df)\n",
    "evalutor.evaluate(pred_train)"
   ]
  },
  {
   "cell_type": "code",
   "execution_count": 52,
   "id": "13d155b3",
   "metadata": {},
   "outputs": [],
   "source": [
    "best_model = model_final.bestModel"
   ]
  },
  {
   "cell_type": "code",
   "execution_count": 53,
   "id": "ea0dcc46",
   "metadata": {},
   "outputs": [],
   "source": [
    "best_max_depth = best_model.stages[-1].getOrDefault('maxDepth')\n",
    "best_min_info_gain = best_model.stages[-1].getOrDefault('minInfoGain')\n",
    "best_num_trees= best_model.stages[-1].getOrDefault('numTrees')"
   ]
  },
  {
   "cell_type": "code",
   "execution_count": 54,
   "id": "55ce197f",
   "metadata": {},
   "outputs": [
    {
     "name": "stdout",
     "output_type": "stream",
     "text": [
      "maxDepth: 5\n",
      "minInfoGain: 0.0\n",
      "numTrees: 500\n"
     ]
    }
   ],
   "source": [
    "print('maxDepth:', best_max_depth)\n",
    "print('minInfoGain:', best_min_info_gain)\n",
    "print('numTrees:', best_num_trees)\n"
   ]
  }
 ],
 "metadata": {
  "kernelspec": {
   "display_name": "Python 3",
   "language": "python",
   "name": "python3"
  },
  "language_info": {
   "codemirror_mode": {
    "name": "ipython",
    "version": 3
   },
   "file_extension": ".py",
   "mimetype": "text/x-python",
   "name": "python",
   "nbconvert_exporter": "python",
   "pygments_lexer": "ipython3",
   "version": "3.11.8"
  }
 },
 "nbformat": 4,
 "nbformat_minor": 5
}
